{
  "nbformat": 4,
  "nbformat_minor": 0,
  "metadata": {
    "colab": {
      "name": "Numpy Extended Tutorial.ipynb",
      "provenance": [],
      "collapsed_sections": [],
      "include_colab_link": true
    },
    "kernelspec": {
      "name": "python3",
      "display_name": "Python 3"
    }
  },
  "cells": [
    {
      "cell_type": "markdown",
      "metadata": {
        "id": "view-in-github",
        "colab_type": "text"
      },
      "source": [
        "<a href=\"https://colab.research.google.com/github/mahfuz978/TECH-I.S.---DATA-PROCESSING/blob/main/Numpy_Extended_Tutorial.ipynb\" target=\"_parent\"><img src=\"https://colab.research.google.com/assets/colab-badge.svg\" alt=\"Open In Colab\"/></a>"
      ]
    },
    {
      "cell_type": "code",
      "metadata": {
        "colab": {
          "base_uri": "https://localhost:8080/"
        },
        "id": "-qF7HBwZSbCX",
        "outputId": "6f715e68-b96d-42b3-9e52-5be83435e8ad"
      },
      "source": [
        "animals = ['cat', 'dog', 'monkey']\r\n",
        "for animal in enumerate(animals):\r\n",
        "    print(animal)"
      ],
      "execution_count": null,
      "outputs": [
        {
          "output_type": "stream",
          "text": [
            "(0, 'cat')\n",
            "(1, 'dog')\n",
            "(2, 'monkey')\n"
          ],
          "name": "stdout"
        }
      ]
    },
    {
      "cell_type": "code",
      "metadata": {
        "colab": {
          "base_uri": "https://localhost:8080/"
        },
        "id": "Zk3yIZmySfGu",
        "outputId": "6b8255a5-ed4e-4c91-8a5b-e6dbf329912f"
      },
      "source": [
        "nums = [0, 1, 2, 3, 4]\r\n",
        "squares = []\r\n",
        "for x in nums:\r\n",
        "  squares.append(x**2)\r\n",
        "print(squares)"
      ],
      "execution_count": null,
      "outputs": [
        {
          "output_type": "stream",
          "text": [
            "[0, 1, 4, 9, 16]\n"
          ],
          "name": "stdout"
        }
      ]
    },
    {
      "cell_type": "code",
      "metadata": {
        "colab": {
          "base_uri": "https://localhost:8080/"
        },
        "id": "wEYr-wI8U95L",
        "outputId": "409733ff-3652-41b0-abee-986867dec397"
      },
      "source": [
        "nums = [0, 1, 2, 3, 4]\r\n",
        "squares = [x**2 for x in nums]\r\n",
        "print(squares)"
      ],
      "execution_count": null,
      "outputs": [
        {
          "output_type": "stream",
          "text": [
            "[0, 1, 4, 9, 16]\n"
          ],
          "name": "stdout"
        }
      ]
    },
    {
      "cell_type": "code",
      "metadata": {
        "id": "iRH3-MmHVT47"
      },
      "source": [
        "d = {'cat': 'cute', 'dog': 'furry'} "
      ],
      "execution_count": null,
      "outputs": []
    },
    {
      "cell_type": "code",
      "metadata": {
        "colab": {
          "base_uri": "https://localhost:8080/"
        },
        "id": "6tk07FZ-Vbcu",
        "outputId": "822f8f30-c5c2-410d-b112-3c751f7e0475"
      },
      "source": [
        "print(d.get('monkey', 'N/A'))"
      ],
      "execution_count": null,
      "outputs": [
        {
          "output_type": "stream",
          "text": [
            "N/A\n"
          ],
          "name": "stdout"
        }
      ]
    },
    {
      "cell_type": "code",
      "metadata": {
        "colab": {
          "base_uri": "https://localhost:8080/"
        },
        "id": "QAd_IPx1VeuQ",
        "outputId": "abe7d714-825e-4198-b26e-8d174700aeec"
      },
      "source": [
        "d = {'person': 2, 'cat': 4, 'spider': 8}\r\n",
        "for y, x in enumerate(d):\r\n",
        "  legs = d[x]\r\n",
        "  print(\"#%d A %s has %d legs\" % (y + 1 , x, legs))"
      ],
      "execution_count": null,
      "outputs": [
        {
          "output_type": "stream",
          "text": [
            "#1 A person has 2 legs\n",
            "#2 A cat has 4 legs\n",
            "#3 A spider has 8 legs\n"
          ],
          "name": "stdout"
        }
      ]
    },
    {
      "cell_type": "code",
      "metadata": {
        "colab": {
          "base_uri": "https://localhost:8080/"
        },
        "id": "Eq07DUo8WyPE",
        "outputId": "4a77111a-1305-4fd0-8b32-e97f26297d9b"
      },
      "source": [
        "d = {'person': 2, 'cat': 4, 'spider': 8}\r\n",
        "for animal, legs in d.items():\r\n",
        "    print('A %s has %d legs' % ( animal, legs))"
      ],
      "execution_count": null,
      "outputs": [
        {
          "output_type": "stream",
          "text": [
            "A person has 2 legs\n",
            "A cat has 4 legs\n",
            "A spider has 8 legs\n"
          ],
          "name": "stdout"
        }
      ]
    },
    {
      "cell_type": "code",
      "metadata": {
        "colab": {
          "base_uri": "https://localhost:8080/"
        },
        "id": "COGmGZk6YPoW",
        "outputId": "4c7b1b5f-330a-45b1-dbbc-7cf79f5fb390"
      },
      "source": [
        "nums = [0, 1, 2, 3, 4]\r\n",
        "even_dic = {x: x**2 for x in nums if x % 2 == 0}\r\n",
        "print(even_dic)"
      ],
      "execution_count": null,
      "outputs": [
        {
          "output_type": "stream",
          "text": [
            "{0: 0, 2: 4, 4: 16}\n"
          ],
          "name": "stdout"
        }
      ]
    },
    {
      "cell_type": "code",
      "metadata": {
        "colab": {
          "base_uri": "https://localhost:8080/"
        },
        "id": "1dfPnXk7Y2nj",
        "outputId": "b76e7ee2-c4a4-41b4-f9b4-e6dc7bd0d82d"
      },
      "source": [
        "from math import sqrt\r\n",
        "nums = {x: int(sqrt(x)) for x in range(4)}\r\n",
        "print(nums)"
      ],
      "execution_count": null,
      "outputs": [
        {
          "output_type": "stream",
          "text": [
            "{0: 0, 1: 1, 2: 1, 3: 1}\n"
          ],
          "name": "stdout"
        }
      ]
    },
    {
      "cell_type": "code",
      "metadata": {
        "colab": {
          "base_uri": "https://localhost:8080/"
        },
        "id": "uFKe0ZRrmnpm",
        "outputId": "cc98394f-98b3-48d6-d20d-62eb2883c4a6"
      },
      "source": [
        "def sign(x):\r\n",
        "    if x > 0:\r\n",
        "        return 'positive'\r\n",
        "    elif x < 0:\r\n",
        "        return 'negative'\r\n",
        "    else:\r\n",
        "        return 'zero'\r\n",
        "\r\n",
        "for x in [-1, 0, 1]:\r\n",
        "    print(sign(x))\r\n",
        "  "
      ],
      "execution_count": null,
      "outputs": [
        {
          "output_type": "stream",
          "text": [
            "negative\n",
            "zero\n",
            "positive\n"
          ],
          "name": "stdout"
        }
      ]
    },
    {
      "cell_type": "code",
      "metadata": {
        "colab": {
          "base_uri": "https://localhost:8080/"
        },
        "id": "s3l24Zim6uO1",
        "outputId": "47782308-79e8-4a02-e0ae-ba15cfd44b2a"
      },
      "source": [
        "d = {(x, x + 1): x for x in range(10)}  # Create a dictionary with tuple keys\r\n",
        "t = (5, 6)        # Create a tuple\r\n",
        "print(type(t))    # Prints \"<class 'tuple'>\"\r\n",
        "print(d[t])       # Prints \"5\"\r\n",
        "print(d[(1, 2)])"
      ],
      "execution_count": null,
      "outputs": [
        {
          "output_type": "stream",
          "text": [
            "<class 'tuple'>\n",
            "5\n",
            "1\n"
          ],
          "name": "stdout"
        }
      ]
    },
    {
      "cell_type": "code",
      "metadata": {
        "colab": {
          "base_uri": "https://localhost:8080/"
        },
        "id": "l81EcoC97Kch",
        "outputId": "efebd7a1-d39b-4a81-b200-7841d5633f16"
      },
      "source": [
        "d = {(x, x + 1): x for x in range(10)}\r\n",
        "print(d)"
      ],
      "execution_count": null,
      "outputs": [
        {
          "output_type": "stream",
          "text": [
            "{(0, 1): 0, (1, 2): 1, (2, 3): 2, (3, 4): 3, (4, 5): 4, (5, 6): 5, (6, 7): 6, (7, 8): 7, (8, 9): 8, (9, 10): 9}\n"
          ],
          "name": "stdout"
        }
      ]
    },
    {
      "cell_type": "code",
      "metadata": {
        "id": "LSpimKQQ72FB"
      },
      "source": [
        "def quicksort(arr):\r\n",
        "    if len(arr) <= 1:\r\n",
        "        return arr\r\n",
        "    pivot = arr[len(arr) // 2]\r\n",
        "    left = [x for x in arr if x < pivot]\r\n",
        "    middle = [x for x in arr if x == pivot]\r\n",
        "    right = [x for x in arr if x > pivot]\r\n",
        "    return quicksort(left) + middle + quicksort(right)\r\n",
        "\r\n",
        "print(quicksort([3,6,8,10,1,2,1]))"
      ],
      "execution_count": null,
      "outputs": []
    },
    {
      "cell_type": "code",
      "metadata": {
        "colab": {
          "base_uri": "https://localhost:8080/"
        },
        "id": "WeedZIjcMNqM",
        "outputId": "ded0d2d3-196a-4be4-ea59-faf9043d120b"
      },
      "source": [
        "def sign(x):\r\n",
        "    if x > 0:\r\n",
        "        return 'positive'\r\n",
        "    elif x < 0:\r\n",
        "        return 'negative'\r\n",
        "    else:\r\n",
        "        return 'zero'\r\n",
        "\r\n",
        "for x in [-1, 0, 1]:\r\n",
        "    print(sign(x))"
      ],
      "execution_count": null,
      "outputs": [
        {
          "output_type": "stream",
          "text": [
            "negative\n",
            "zero\n",
            "positive\n"
          ],
          "name": "stdout"
        }
      ]
    },
    {
      "cell_type": "code",
      "metadata": {
        "colab": {
          "base_uri": "https://localhost:8080/"
        },
        "id": "vAlF225iMVl-",
        "outputId": "086fe643-d7fd-4e81-aef2-e60ab5244768"
      },
      "source": [
        "class Greeter(object):\r\n",
        "\r\n",
        "    # Constructor\r\n",
        "    def __init__(self, name):\r\n",
        "        self.name = name  # Create an instance variable\r\n",
        "\r\n",
        "    # Instance method\r\n",
        "    def greet(self, loud=False):\r\n",
        "        if loud:\r\n",
        "            print('HELLO, %s!' % self.name.upper())\r\n",
        "        else:\r\n",
        "            print('Hello, %s' % self.name)\r\n",
        "\r\n",
        "g = Greeter('Fred')  # Construct an instance of the Greeter class\r\n",
        "g.greet()            # Call an instance method; prints \"Hello, Fred\"\r\n",
        "g.greet(loud=True)   # Call an instance method; prints \"HELLO, FRED!\""
      ],
      "execution_count": null,
      "outputs": [
        {
          "output_type": "stream",
          "text": [
            "Hello, Fred\n",
            "HELLO, FRED!\n"
          ],
          "name": "stdout"
        }
      ]
    },
    {
      "cell_type": "code",
      "metadata": {
        "colab": {
          "base_uri": "https://localhost:8080/"
        },
        "id": "zmTBnH9-MWn-",
        "outputId": "0d47ba8f-56c9-49b9-a20d-5fcb80546c6f"
      },
      "source": [
        "import numpy as np\r\n",
        "\r\n",
        "a = np.array([1, 2, 3])   # Create a rank 1 array\r\n",
        "print(type(a))            # Prints \"<class 'numpy.ndarray'>\"\r\n",
        "print(a.shape)            # Prints \"(3,)\"\r\n",
        "print(a[0], a[1], a[2])   # Prints \"1 2 3\"\r\n",
        "a[0] = 5                  # Change an element of the array\r\n",
        "print(a)                  # Prints \"[5, 2, 3]\"\r\n",
        "\r\n",
        "b = np.array([[1,2,3],[4,5,6]])    # Create a rank 2 array\r\n",
        "print(b.shape)                     # Prints \"(2, 3)\"\r\n",
        "print(b[0, 0], b[0, 1], b[1, 0])   # Prints \"1 2 4\""
      ],
      "execution_count": null,
      "outputs": [
        {
          "output_type": "stream",
          "text": [
            "<class 'numpy.ndarray'>\n",
            "(3,)\n",
            "1 2 3\n",
            "[5 2 3]\n",
            "(2, 3)\n",
            "1 2 4\n"
          ],
          "name": "stdout"
        }
      ]
    },
    {
      "cell_type": "code",
      "metadata": {
        "colab": {
          "base_uri": "https://localhost:8080/"
        },
        "id": "eITcdYjEMeHG",
        "outputId": "2320357f-9043-4a3d-a006-3af185bb92ea"
      },
      "source": [
        "import numpy as np\r\n",
        "\r\n",
        "a = np.zeros((2,2))   # Create an array of all zeros\r\n",
        "print(a)              # Prints \"[[ 0.  0.]\r\n",
        "                      #          [ 0.  0.]]\"\r\n",
        "\r\n",
        "b = np.ones((1,2))    # Create an array of all ones\r\n",
        "print(b)              # Prints \"[[ 1.  1.]]\"\r\n",
        "\r\n",
        "c = np.full((2,2), 7)  # Create a constant array\r\n",
        "print(c)               # Prints \"[[ 7.  7.]\r\n",
        "                       #          [ 7.  7.]]\"\r\n",
        "\r\n",
        "d = np.eye(2)         # Create a 2x2 identity matrix\r\n",
        "print(d)              # Prints \"[[ 1.  0.]\r\n",
        "                      #          [ 0.  1.]]\"\r\n",
        "\r\n",
        "e = np.random.random((2,2))  # Create an array filled with random values\r\n",
        "print(e)                     # Might print \"[[ 0.91940167  0.08143941]\r\n",
        "                             #               [ 0.68744134  0.87236687]]\""
      ],
      "execution_count": null,
      "outputs": [
        {
          "output_type": "stream",
          "text": [
            "[[0. 0.]\n",
            " [0. 0.]]\n",
            "[[1. 1.]]\n",
            "[[7 7]\n",
            " [7 7]]\n",
            "[[1. 0.]\n",
            " [0. 1.]]\n",
            "[[0.1913512  0.14737513]\n",
            " [0.10832881 0.90069459]]\n"
          ],
          "name": "stdout"
        }
      ]
    },
    {
      "cell_type": "code",
      "metadata": {
        "colab": {
          "base_uri": "https://localhost:8080/"
        },
        "id": "lA5BExmtMqql",
        "outputId": "c0a929dc-b985-4e69-d5ab-6f4750d723aa"
      },
      "source": [
        "import numpy as np\r\n",
        "\r\n",
        "# Create the following rank 2 array with shape (3, 4)\r\n",
        "# [[ 1  2  3  4]\r\n",
        "#  [ 5  6  7  8]\r\n",
        "#  [ 9 10 11 12]]\r\n",
        "a = np.array([[1,2,3,4], [5,6,7,8], [9,10,11,12]])\r\n",
        "\r\n",
        "# Use slicing to pull out the subarray consisting of the first 2 rows\r\n",
        "# and columns 1 and 2; b is the following array of shape (2, 2):\r\n",
        "# [[2 3]\r\n",
        "#  [6 7]]\r\n",
        "b = a[:2, 1:3]\r\n",
        "\r\n",
        "# A slice of an array is a view into the same data, so modifying it\r\n",
        "# will modify the original array.\r\n",
        "print(a[0, 1])   # Prints \"2\"\r\n",
        "b[0, 0] = 77     # b[0, 0] is the same piece of data as a[0, 1]\r\n",
        "print(a[0, 1])   # Prints \"77\""
      ],
      "execution_count": null,
      "outputs": [
        {
          "output_type": "stream",
          "text": [
            "2\n",
            "77\n"
          ],
          "name": "stdout"
        }
      ]
    },
    {
      "cell_type": "code",
      "metadata": {
        "colab": {
          "base_uri": "https://localhost:8080/"
        },
        "id": "vWDfo3oGNEB2",
        "outputId": "40d5ab2c-4a40-43d8-cce4-c431caadd1c7"
      },
      "source": [
        "import numpy as np\r\n",
        "\r\n",
        "# Create the following rank 2 array with shape (3, 4)\r\n",
        "# [[ 1  2  3  4]\r\n",
        "#  [ 5  6  7  8]\r\n",
        "#  [ 9 10 11 12]]\r\n",
        "a = np.array([[1,2,3,4], [5,6,7,8], [9,10,11,12]])\r\n",
        "\r\n",
        "# Two ways of accessing the data in the middle row of the array.\r\n",
        "# Mixing integer indexing with slices yields an array of lower rank,\r\n",
        "# while using only slices yields an array of the same rank as the\r\n",
        "# original array:\r\n",
        "row_r1 = a[1, :]    # Rank 1 view of the second row of a\r\n",
        "row_r2 = a[1:2, :]  # Rank 2 view of the second row of a\r\n",
        "print(row_r1, row_r1.shape)  # Prints \"[5 6 7 8] (4,)\"\r\n",
        "print(row_r2, row_r2.shape)  # Prints \"[[5 6 7 8]] (1, 4)\"\r\n",
        "\r\n",
        "# We can make the same distinction when accessing columns of an array:\r\n",
        "col_r1 = a[:, 1]\r\n",
        "col_r2 = a[:, 1:2]\r\n",
        "print(col_r1, col_r1.shape)  # Prints \"[ 2  6 10] (3,)\"\r\n",
        "print(col_r2, col_r2.shape)  # Prints \"[[ 2]\r\n",
        "                             #          [ 6]\r\n",
        "                             #          [10]] (3, 1)\""
      ],
      "execution_count": null,
      "outputs": [
        {
          "output_type": "stream",
          "text": [
            "[5 6 7 8] (4,)\n",
            "[[5 6 7 8]] (1, 4)\n",
            "[ 2  6 10] (3,)\n",
            "[[ 2]\n",
            " [ 6]\n",
            " [10]] (3, 1)\n"
          ],
          "name": "stdout"
        }
      ]
    },
    {
      "cell_type": "code",
      "metadata": {
        "id": "YquYH260NXsu",
        "colab": {
          "base_uri": "https://localhost:8080/"
        },
        "outputId": "c5cae6a0-cef1-411a-826e-891452348740"
      },
      "source": [
        "import numpy as np\r\n",
        "\r\n",
        "a = np.array([[1,2], [3, 4], [5, 6]])\r\n",
        "\r\n",
        "# An example of integer array indexing.\r\n",
        "# The returned array will have shape (3,) and\r\n",
        "print(a[[0, 1, 2], [0, 1, 0]])  # Prints \"[1 4 5]\"\r\n",
        "\r\n",
        "# The above example of integer array indexing is equivalent to this:\r\n",
        "print(np.array([a[0, 0], a[1, 1], a[2, 0]]))  # Prints \"[1 4 5]\"\r\n",
        "\r\n",
        "# When using integer array indexing, you can reuse the same\r\n",
        "# element from the source array:\r\n",
        "print(a[[0, 0], [1, 1]])  # Prints \"[2 2]\"\r\n",
        "\r\n",
        "# Equivalent to the previous integer array indexing example\r\n",
        "print(np.array([a[0, 1], a[0, 1]]))  # Prints \"[2 2]\""
      ],
      "execution_count": 1,
      "outputs": [
        {
          "output_type": "stream",
          "text": [
            "[1 4 5]\n",
            "[1 4 5]\n",
            "[2 2]\n",
            "[2 2]\n"
          ],
          "name": "stdout"
        }
      ]
    },
    {
      "cell_type": "code",
      "metadata": {
        "colab": {
          "base_uri": "https://localhost:8080/"
        },
        "id": "_APG3YNi0H3p",
        "outputId": "60824eb1-09e7-4bb6-ba15-0ea0b5743d5c"
      },
      "source": [
        "import numpy as np\r\n",
        "\r\n",
        "# Create a new array from which we will select elements\r\n",
        "a = np.array([[1,2,3], [4,5,6], [7,8,9], [10, 11, 12]])\r\n",
        "\r\n",
        "print(a)  # prints \"array([[ 1,  2,  3],\r\n",
        "          #                [ 4,  5,  6],\r\n",
        "          #                [ 7,  8,  9],\r\n",
        "          #                [10, 11, 12]])\"\r\n",
        "\r\n",
        "# Create an array of indices\r\n",
        "b = np.array([0, 2, 0, 1])\r\n",
        "\r\n",
        "# Select one element from each row of a using the indices in b\r\n",
        "print(a[np.arange(4), b])  # Prints \"[ 1  6  7 11]\"\r\n",
        "\r\n",
        "# Mutate one element from each row of a using the indices in b\r\n",
        "a[np.arange(4), b] += 10\r\n",
        "\r\n",
        "print(a)  # prints \"array([[11,  2,  3],\r\n",
        "          #                [ 4,  5, 16],\r\n",
        "          #                [17,  8,  9],\r\n",
        "          #                [10, 21, 12]])"
      ],
      "execution_count": 2,
      "outputs": [
        {
          "output_type": "stream",
          "text": [
            "[[ 1  2  3]\n",
            " [ 4  5  6]\n",
            " [ 7  8  9]\n",
            " [10 11 12]]\n",
            "[ 1  6  7 11]\n",
            "[[11  2  3]\n",
            " [ 4  5 16]\n",
            " [17  8  9]\n",
            " [10 21 12]]\n"
          ],
          "name": "stdout"
        }
      ]
    },
    {
      "cell_type": "code",
      "metadata": {
        "colab": {
          "base_uri": "https://localhost:8080/"
        },
        "id": "3bBbIVGX1JuN",
        "outputId": "9daee8cc-3df4-4a6e-91c6-abf15874c3cd"
      },
      "source": [
        "import numpy as np\r\n",
        "\r\n",
        "a = np.array([[1,2], [3, 4], [5, 6]])\r\n",
        "\r\n",
        "bool_idx = (a > 2)   # Find the elements of a that are bigger than 2;\r\n",
        "                     # this returns a numpy array of Booleans of the same\r\n",
        "                     # shape as a, where each slot of bool_idx tells\r\n",
        "                     # whether that element of a is > 2.\r\n",
        "\r\n",
        "print(bool_idx)      # Prints \"[[False False]\r\n",
        "                     #          [ True  True]\r\n",
        "                     #          [ True  True]]\"\r\n",
        "\r\n",
        "# We use boolean array indexing to construct a rank 1 array\r\n",
        "# consisting of the elements of a corresponding to the True values\r\n",
        "# of bool_idx\r\n",
        "print(a[bool_idx])  # Prints \"[3 4 5 6]\"\r\n",
        "\r\n",
        "# We can do all of the above in a single concise statement:\r\n",
        "print(a[a > 2])     # Prints \"[3 4 5 6]\""
      ],
      "execution_count": 3,
      "outputs": [
        {
          "output_type": "stream",
          "text": [
            "[[False False]\n",
            " [ True  True]\n",
            " [ True  True]]\n",
            "[3 4 5 6]\n",
            "[3 4 5 6]\n"
          ],
          "name": "stdout"
        }
      ]
    },
    {
      "cell_type": "code",
      "metadata": {
        "colab": {
          "base_uri": "https://localhost:8080/"
        },
        "id": "ClNnpbFJ1xNN",
        "outputId": "bb949cfd-a9f3-4235-ec12-6f21b12bae62"
      },
      "source": [
        "import numpy as np\r\n",
        "\r\n",
        "x = np.array([1, 2])   # Let numpy choose the datatype\r\n",
        "print(x.dtype)         # Prints \"int64\"\r\n",
        "\r\n",
        "x = np.array([1.0, 2.0])   # Let numpy choose the datatype\r\n",
        "print(x.dtype)             # Prints \"float64\"\r\n",
        "\r\n",
        "x = np.array([1, 2], dtype=np.int64)   # Force a particular datatype\r\n",
        "print(x.dtype)                         # Prints \"int64\""
      ],
      "execution_count": 4,
      "outputs": [
        {
          "output_type": "stream",
          "text": [
            "int64\n",
            "float64\n",
            "int64\n"
          ],
          "name": "stdout"
        }
      ]
    },
    {
      "cell_type": "code",
      "metadata": {
        "colab": {
          "base_uri": "https://localhost:8080/"
        },
        "id": "xxreZ7Yi2lRg",
        "outputId": "1e953c66-54dd-4c43-e451-e58784b79738"
      },
      "source": [
        "import numpy as np\r\n",
        "\r\n",
        "x = np.array([[1,2],[3,4]], dtype=np.float64)\r\n",
        "y = np.array([[5,6],[7,8]], dtype=np.float64)\r\n",
        "\r\n",
        "# Elementwise sum; both produce the array\r\n",
        "# [[ 6.0  8.0]\r\n",
        "#  [10.0 12.0]]\r\n",
        "print(x + y)\r\n",
        "print(np.add(x, y))\r\n",
        "\r\n",
        "# Elementwise difference; both produce the array\r\n",
        "# [[-4.0 -4.0]\r\n",
        "#  [-4.0 -4.0]]\r\n",
        "print(x - y)\r\n",
        "print(np.subtract(x, y))\r\n",
        "\r\n",
        "# Elementwise product; both produce the array\r\n",
        "# [[ 5.0 12.0]\r\n",
        "#  [21.0 32.0]]\r\n",
        "print(x * y)\r\n",
        "print(np.multiply(x, y))\r\n",
        "\r\n",
        "# Elementwise division; both produce the array\r\n",
        "# [[ 0.2         0.33333333]\r\n",
        "#  [ 0.42857143  0.5       ]]\r\n",
        "print(x / y)\r\n",
        "print(np.divide(x, y))\r\n",
        "\r\n",
        "# Elementwise square root; produces the array\r\n",
        "# [[ 1.          1.41421356]\r\n",
        "#  [ 1.73205081  2.        ]]\r\n",
        "print(np.sqrt(x))"
      ],
      "execution_count": 5,
      "outputs": [
        {
          "output_type": "stream",
          "text": [
            "[[ 6.  8.]\n",
            " [10. 12.]]\n",
            "[[ 6.  8.]\n",
            " [10. 12.]]\n",
            "[[-4. -4.]\n",
            " [-4. -4.]]\n",
            "[[-4. -4.]\n",
            " [-4. -4.]]\n",
            "[[ 5. 12.]\n",
            " [21. 32.]]\n",
            "[[ 5. 12.]\n",
            " [21. 32.]]\n",
            "[[0.2        0.33333333]\n",
            " [0.42857143 0.5       ]]\n",
            "[[0.2        0.33333333]\n",
            " [0.42857143 0.5       ]]\n",
            "[[1.         1.41421356]\n",
            " [1.73205081 2.        ]]\n"
          ],
          "name": "stdout"
        }
      ]
    },
    {
      "cell_type": "code",
      "metadata": {
        "colab": {
          "base_uri": "https://localhost:8080/"
        },
        "id": "eg0ODSA820c8",
        "outputId": "b0d80d31-fc7b-4314-b1e8-5a121c3ec5f5"
      },
      "source": [
        "import numpy as np\r\n",
        "\r\n",
        "x = np.array([[1,2],[3,4]])\r\n",
        "y = np.array([[5,6],[7,8]])\r\n",
        "\r\n",
        "v = np.array([9,10])\r\n",
        "w = np.array([11, 12])\r\n",
        "\r\n",
        "# Inner product of vectors; both produce 219\r\n",
        "print(v.dot(w))\r\n",
        "print(np.dot(v, w))\r\n",
        "\r\n",
        "# Matrix / vector product; both produce the rank 1 array [29 67]\r\n",
        "print(x.dot(v))\r\n",
        "print(np.dot(x, v))\r\n",
        "\r\n",
        "# Matrix / matrix product; both produce the rank 2 array\r\n",
        "# [[19 22]\r\n",
        "#  [43 50]]\r\n",
        "print(x.dot(y))\r\n",
        "print(np.dot(x, y))"
      ],
      "execution_count": 6,
      "outputs": [
        {
          "output_type": "stream",
          "text": [
            "219\n",
            "219\n",
            "[29 67]\n",
            "[29 67]\n",
            "[[19 22]\n",
            " [43 50]]\n",
            "[[19 22]\n",
            " [43 50]]\n"
          ],
          "name": "stdout"
        }
      ]
    },
    {
      "cell_type": "code",
      "metadata": {
        "colab": {
          "base_uri": "https://localhost:8080/"
        },
        "id": "hmFVe-3C3evC",
        "outputId": "b548d209-578e-4acc-a85e-5b1767d14fda"
      },
      "source": [
        "import numpy as np\r\n",
        "\r\n",
        "x = np.array([[1,2],[3,4]])\r\n",
        "\r\n",
        "print(np.sum(x))  # Compute sum of all elements; prints \"10\"\r\n",
        "print(np.sum(x, axis=0))  # Compute sum of each column; prints \"[4 6]\"\r\n",
        "print(np.sum(x, axis=1))  # Compute sum of each row; prints \"[3 7]\""
      ],
      "execution_count": 7,
      "outputs": [
        {
          "output_type": "stream",
          "text": [
            "10\n",
            "[4 6]\n",
            "[3 7]\n"
          ],
          "name": "stdout"
        }
      ]
    },
    {
      "cell_type": "code",
      "metadata": {
        "colab": {
          "base_uri": "https://localhost:8080/"
        },
        "id": "wVW-lPlR3kFR",
        "outputId": "0349ac28-1a42-4dba-8826-ac69d2ca93c7"
      },
      "source": [
        "import numpy as np\r\n",
        "\r\n",
        "x = np.array([[1,2], [3,4]])\r\n",
        "print(x)    # Prints \"[[1 2]\r\n",
        "            #          [3 4]]\"\r\n",
        "print(x.T)  # Prints \"[[1 3]\r\n",
        "            #          [2 4]]\"\r\n",
        "\r\n",
        "# Note that taking the transpose of a rank 1 array does nothing:\r\n",
        "v = np.array([1,2,3])\r\n",
        "print(v)    # Prints \"[1 2 3]\"\r\n",
        "print(v.T)  # Prints \"[1 2 3]\""
      ],
      "execution_count": 8,
      "outputs": [
        {
          "output_type": "stream",
          "text": [
            "[[1 2]\n",
            " [3 4]]\n",
            "[[1 3]\n",
            " [2 4]]\n",
            "[1 2 3]\n",
            "[1 2 3]\n"
          ],
          "name": "stdout"
        }
      ]
    },
    {
      "cell_type": "code",
      "metadata": {
        "colab": {
          "base_uri": "https://localhost:8080/"
        },
        "id": "zgbcX9xP3wkX",
        "outputId": "4869bfbf-e3c1-40b6-f432-5fba612ad27a"
      },
      "source": [
        "import numpy as np\r\n",
        "\r\n",
        "# We will add the vector v to each row of the matrix x,\r\n",
        "# storing the result in the matrix y\r\n",
        "x = np.array([[1,2,3], [4,5,6], [7,8,9], [10, 11, 12]])\r\n",
        "v = np.array([1, 0, 1])\r\n",
        "y = np.empty_like(x)   # Create an empty matrix with the same shape as x\r\n",
        "\r\n",
        "# Add the vector v to each row of the matrix x with an explicit loop\r\n",
        "for i in range(4):\r\n",
        "    y[i, :] = x[i, :] + v\r\n",
        "\r\n",
        "# Now y is the following\r\n",
        "# [[ 2  2  4]\r\n",
        "#  [ 5  5  7]\r\n",
        "#  [ 8  8 10]\r\n",
        "#  [11 11 13]]\r\n",
        "print(y)"
      ],
      "execution_count": 9,
      "outputs": [
        {
          "output_type": "stream",
          "text": [
            "[[ 2  2  4]\n",
            " [ 5  5  7]\n",
            " [ 8  8 10]\n",
            " [11 11 13]]\n"
          ],
          "name": "stdout"
        }
      ]
    },
    {
      "cell_type": "code",
      "metadata": {
        "colab": {
          "base_uri": "https://localhost:8080/"
        },
        "id": "Hz6exoYE3_kY",
        "outputId": "86c8b6c4-c883-47c7-d52d-d52fa64a6ee9"
      },
      "source": [
        "import numpy as np\r\n",
        "\r\n",
        "# We will add the vector v to each row of the matrix x,\r\n",
        "# storing the result in the matrix y\r\n",
        "x = np.array([[1,2,3], [4,5,6], [7,8,9], [10, 11, 12]])\r\n",
        "v = np.array([1, 0, 1])\r\n",
        "vv = np.tile(v, (4, 1))   # Stack 4 copies of v on top of each other\r\n",
        "print(vv)                 # Prints \"[[1 0 1]\r\n",
        "                          #          [1 0 1]\r\n",
        "                          #          [1 0 1]\r\n",
        "                          #          [1 0 1]]\"\r\n",
        "y = x + vv  # Add x and vv elementwise\r\n",
        "print(y)  # Prints \"[[ 2  2  4\r\n",
        "          #          [ 5  5  7]\r\n",
        "          #          [ 8  8 10]\r\n",
        "          #          [11 11 13]]\""
      ],
      "execution_count": 10,
      "outputs": [
        {
          "output_type": "stream",
          "text": [
            "[[1 0 1]\n",
            " [1 0 1]\n",
            " [1 0 1]\n",
            " [1 0 1]]\n",
            "[[ 2  2  4]\n",
            " [ 5  5  7]\n",
            " [ 8  8 10]\n",
            " [11 11 13]]\n"
          ],
          "name": "stdout"
        }
      ]
    },
    {
      "cell_type": "code",
      "metadata": {
        "colab": {
          "base_uri": "https://localhost:8080/"
        },
        "id": "WT2Aa3tC5pQi",
        "outputId": "0e85354d-6937-4e37-e2ad-cef7f2c67f98"
      },
      "source": [
        "import numpy as np\r\n",
        "\r\n",
        "# We will add the vector v to each row of the matrix x,\r\n",
        "# storing the result in the matrix y\r\n",
        "x = np.array([[1,2,3], [4,5,6], [7,8,9], [10, 11, 12]])\r\n",
        "v = np.array([1, 0, 1])\r\n",
        "y = x + v  # Add v to each row of x using broadcasting\r\n",
        "print(y)  # Prints \"[[ 2  2  4]\r\n",
        "          #          [ 5  5  7]\r\n",
        "          #          [ 8  8 10]\r\n",
        "          #          [11 11 13]]\""
      ],
      "execution_count": 11,
      "outputs": [
        {
          "output_type": "stream",
          "text": [
            "[[ 2  2  4]\n",
            " [ 5  5  7]\n",
            " [ 8  8 10]\n",
            " [11 11 13]]\n"
          ],
          "name": "stdout"
        }
      ]
    },
    {
      "cell_type": "code",
      "metadata": {
        "colab": {
          "base_uri": "https://localhost:8080/"
        },
        "id": "4bbx_OWi7mKi",
        "outputId": "2dff6921-d934-4d43-ba8e-a5a86943b077"
      },
      "source": [
        "import numpy as np\r\n",
        "\r\n",
        "# Compute outer product of vectors\r\n",
        "v = np.array([1,2,3])  # v has shape (3,)\r\n",
        "w = np.array([4,5])    # w has shape (2,)\r\n",
        "# To compute an outer product, we first reshape v to be a column\r\n",
        "# vector of shape (3, 1); we can then broadcast it against w to yield\r\n",
        "# an output of shape (3, 2), which is the outer product of v and w:\r\n",
        "# [[ 4  5]\r\n",
        "#  [ 8 10]\r\n",
        "#  [12 15]]\r\n",
        "print(np.reshape(v, (3, 1)) * w)\r\n",
        "\r\n",
        "# Add a vector to each row of a matrix\r\n",
        "x = np.array([[1,2,3], [4,5,6]])\r\n",
        "# x has shape (2, 3) and v has shape (3,) so they broadcast to (2, 3),\r\n",
        "# giving the following matrix:\r\n",
        "# [[2 4 6]\r\n",
        "#  [5 7 9]]\r\n",
        "print(x + v)\r\n",
        "\r\n",
        "# Add a vector to each column of a matrix\r\n",
        "# x has shape (2, 3) and w has shape (2,).\r\n",
        "# If we transpose x then it has shape (3, 2) and can be broadcast\r\n",
        "# against w to yield a result of shape (3, 2); transposing this result\r\n",
        "# yields the final result of shape (2, 3) which is the matrix x with\r\n",
        "# the vector w added to each column. Gives the following matrix:\r\n",
        "# [[ 5  6  7]\r\n",
        "#  [ 9 10 11]]\r\n",
        "print((x.T + w).T)\r\n",
        "# Another solution is to reshape w to be a column vector of shape (2, 1);\r\n",
        "# we can then broadcast it directly against x to produce the same\r\n",
        "# output.\r\n",
        "print(x + np.reshape(w, (2, 1)))\r\n",
        "\r\n",
        "# Multiply a matrix by a constant:\r\n",
        "# x has shape (2, 3). Numpy treats scalars as arrays of shape ();\r\n",
        "# these can be broadcast together to shape (2, 3), producing the\r\n",
        "# following array:\r\n",
        "# [[ 2  4  6]\r\n",
        "#  [ 8 10 12]]\r\n",
        "print(x * 2)"
      ],
      "execution_count": 12,
      "outputs": [
        {
          "output_type": "stream",
          "text": [
            "[[ 4  5]\n",
            " [ 8 10]\n",
            " [12 15]]\n",
            "[[2 4 6]\n",
            " [5 7 9]]\n",
            "[[ 5  6  7]\n",
            " [ 9 10 11]]\n",
            "[[ 5  6  7]\n",
            " [ 9 10 11]]\n",
            "[[ 2  4  6]\n",
            " [ 8 10 12]]\n"
          ],
          "name": "stdout"
        }
      ]
    },
    {
      "cell_type": "code",
      "metadata": {
        "id": "acIPuS2G9ehP"
      },
      "source": [
        ""
      ],
      "execution_count": null,
      "outputs": []
    }
  ]
}