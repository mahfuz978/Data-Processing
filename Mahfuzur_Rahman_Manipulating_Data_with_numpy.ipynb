{
  "nbformat": 4,
  "nbformat_minor": 0,
  "metadata": {
    "colab": {
      "name": "Mahfuzur_Rahman_Manipulating_Data_with_numpy.ipynb",
      "provenance": [],
      "collapsed_sections": [],
      "authorship_tag": "ABX9TyOseO8pS2wZBVzSAUhrLHLR",
      "include_colab_link": true
    },
    "kernelspec": {
      "name": "python3",
      "display_name": "Python 3"
    }
  },
  "cells": [
    {
      "cell_type": "markdown",
      "metadata": {
        "id": "view-in-github",
        "colab_type": "text"
      },
      "source": [
        "<a href=\"https://colab.research.google.com/github/mahfuz978/TECH-I.S.---DATA-PROCESSING/blob/main/Mahfuzur_Rahman_Manipulating_Data_with_numpy.ipynb\" target=\"_parent\"><img src=\"https://colab.research.google.com/assets/colab-badge.svg\" alt=\"Open In Colab\"/></a>"
      ]
    },
    {
      "cell_type": "code",
      "metadata": {
        "colab": {
          "base_uri": "https://localhost:8080/"
        },
        "id": "4_Mxym_2-Nzl",
        "outputId": "b66bd912-5e51-45e4-c6b8-b641ea0353f1"
      },
      "source": [
        "# example 1:\r\n",
        "lst = [10,200,90,0]\r\n",
        "\r\n",
        "import numpy as np\r\n",
        "arr = np.array(lst)\r\n",
        "\r\n",
        "print(arr + 10)"
      ],
      "execution_count": 1,
      "outputs": [
        {
          "output_type": "stream",
          "text": [
            "[ 20 210 100  10]\n"
          ],
          "name": "stdout"
        }
      ]
    },
    {
      "cell_type": "code",
      "metadata": {
        "colab": {
          "base_uri": "https://localhost:8080/"
        },
        "id": "Ss0Xqdik_K7I",
        "outputId": "200166d4-177b-4f11-ab3c-e65364888c79"
      },
      "source": [
        "# example 2\r\n",
        "\r\n",
        "lst = [22,45,78,50]\r\n",
        "\r\n",
        "import sys\r\n",
        "arr = np.array(lst)\r\n",
        "print(arr.itemsize)\r\n",
        "print(arr.nbytes)\r\n",
        "print(sys.getsizeof(lst))"
      ],
      "execution_count": 2,
      "outputs": [
        {
          "output_type": "stream",
          "text": [
            "8\n",
            "32\n",
            "96\n"
          ],
          "name": "stdout"
        }
      ]
    },
    {
      "cell_type": "code",
      "metadata": {
        "colab": {
          "base_uri": "https://localhost:8080/"
        },
        "id": "CjlHLJGI_riJ",
        "outputId": "7c92ea10-da6e-456f-bbae-3bc00e816c28"
      },
      "source": [
        "#array creation\r\n",
        "a = np.array([1,2,3,4]) # one dimensional\r\n",
        "b = np.array([[1,2],[2,3]]) # two dimensional\r\n",
        "print(a)\r\n",
        "print(\"-----\")\r\n",
        "print(b)"
      ],
      "execution_count": 3,
      "outputs": [
        {
          "output_type": "stream",
          "text": [
            "[1 2 3 4]\n",
            "-----\n",
            "[[1 2]\n",
            " [2 3]]\n"
          ],
          "name": "stdout"
        }
      ]
    },
    {
      "cell_type": "code",
      "metadata": {
        "colab": {
          "base_uri": "https://localhost:8080/"
        },
        "id": "cXBCT5ljgjhN",
        "outputId": "0a65d38f-84a2-4a18-ed02-4496630fd1cf"
      },
      "source": [
        "# shape\r\n",
        "a = np.array([1,2,3,4])\r\n",
        "b = np.array([[1,2,3,4],[5,6,7,8]])\r\n",
        "\r\n",
        "print(\"The shape of the array a is:\", a.shape)\r\n",
        "print(\"The shape of array b is:\", b.shape)"
      ],
      "execution_count": 4,
      "outputs": [
        {
          "output_type": "stream",
          "text": [
            "The shape of the array a is: (4,)\n",
            "The shape of array b is: (2, 4)\n"
          ],
          "name": "stdout"
        }
      ]
    },
    {
      "cell_type": "code",
      "metadata": {
        "colab": {
          "base_uri": "https://localhost:8080/"
        },
        "id": "FjmhXTkEhP-t",
        "outputId": "14b8afad-6168-49b5-e126-c5162cfb6c40"
      },
      "source": [
        "# dimensions\r\n",
        "print('The dimension of array a is:', a.ndim)\r\n",
        "print('The dimension of array b is:', b.ndim)"
      ],
      "execution_count": 5,
      "outputs": [
        {
          "output_type": "stream",
          "text": [
            "The dimension of array a is: 1\n",
            "The dimension of array b is: 2\n"
          ],
          "name": "stdout"
        }
      ]
    },
    {
      "cell_type": "code",
      "metadata": {
        "colab": {
          "base_uri": "https://localhost:8080/"
        },
        "id": "WFrYy4-qhz8e",
        "outputId": "0fe31a03-ecff-4e00-9c81-ed00623eac44"
      },
      "source": [
        "# size\r\n",
        "print('the size of array a is:', a.size)\r\n",
        "print('the size of array b is:', b.size)"
      ],
      "execution_count": 6,
      "outputs": [
        {
          "output_type": "stream",
          "text": [
            "the size of array a is: 4\n",
            "the size of array b is: 8\n"
          ],
          "name": "stdout"
        }
      ]
    },
    {
      "cell_type": "code",
      "metadata": {
        "colab": {
          "base_uri": "https://localhost:8080/"
        },
        "id": "JE0Nb1s1iKGm",
        "outputId": "0169788e-40e0-4db2-ef57-5c6b3f19661a"
      },
      "source": [
        "# datatype\r\n",
        "print('the data type of array a is:', a.dtype)\r\n",
        "print('the data type of array b is:', b.dtype)"
      ],
      "execution_count": 7,
      "outputs": [
        {
          "output_type": "stream",
          "text": [
            "the data type of array a is: int64\n",
            "the data type of array b is: int64\n"
          ],
          "name": "stdout"
        }
      ]
    },
    {
      "cell_type": "code",
      "metadata": {
        "colab": {
          "base_uri": "https://localhost:8080/"
        },
        "id": "UpAUea4hicjT",
        "outputId": "e1eebf98-9660-40b3-bb40-8c27a94445fb"
      },
      "source": [
        "# itemsize\r\n",
        "print('Array a has:',a.itemsize,\"bytes\")\r\n",
        "print(\"Array b has:\",b.itemsize,\"bytes\" )"
      ],
      "execution_count": 8,
      "outputs": [
        {
          "output_type": "stream",
          "text": [
            "Array a has: 8 bytes\n",
            "Array b has: 8 bytes\n"
          ],
          "name": "stdout"
        }
      ]
    },
    {
      "cell_type": "markdown",
      "metadata": {
        "id": "ZrLrIuzTjWuG"
      },
      "source": [
        "#**Matrix Creation**"
      ]
    },
    {
      "cell_type": "code",
      "metadata": {
        "colab": {
          "base_uri": "https://localhost:8080/"
        },
        "id": "XSXpIGrLjGJ4",
        "outputId": "7996aa64-63ba-44a2-eaf4-cf303ab3c5ca"
      },
      "source": [
        "print(np.array([5,6,8,45,12,52]).reshape(2,3))"
      ],
      "execution_count": 9,
      "outputs": [
        {
          "output_type": "stream",
          "text": [
            "[[ 5  6  8]\n",
            " [45 12 52]]\n"
          ],
          "name": "stdout"
        }
      ]
    },
    {
      "cell_type": "code",
      "metadata": {
        "colab": {
          "base_uri": "https://localhost:8080/"
        },
        "id": "oB1teRo_jz17",
        "outputId": "c0971685-8793-49b4-d9c1-fee7053589e1"
      },
      "source": [
        "print(np.matrix([[1,2],[2,3]]))"
      ],
      "execution_count": 10,
      "outputs": [
        {
          "output_type": "stream",
          "text": [
            "[[1 2]\n",
            " [2 3]]\n"
          ],
          "name": "stdout"
        }
      ]
    },
    {
      "cell_type": "code",
      "metadata": {
        "colab": {
          "base_uri": "https://localhost:8080/"
        },
        "id": "OYtH1rtakLS6",
        "outputId": "3fba09a1-e8e1-4329-d464-53a6f2c1ab03"
      },
      "source": [
        "print(np.eye(3)) # identity matrix"
      ],
      "execution_count": 11,
      "outputs": [
        {
          "output_type": "stream",
          "text": [
            "[[1. 0. 0.]\n",
            " [0. 1. 0.]\n",
            " [0. 0. 1.]]\n"
          ],
          "name": "stdout"
        }
      ]
    },
    {
      "cell_type": "code",
      "metadata": {
        "colab": {
          "base_uri": "https://localhost:8080/"
        },
        "id": "Toj6xXngkR95",
        "outputId": "2e9eecd9-700b-4952-d05d-01cdfc8a60c0"
      },
      "source": [
        "print(np.zeros((4,3)))"
      ],
      "execution_count": 12,
      "outputs": [
        {
          "output_type": "stream",
          "text": [
            "[[0. 0. 0.]\n",
            " [0. 0. 0.]\n",
            " [0. 0. 0.]\n",
            " [0. 0. 0.]]\n"
          ],
          "name": "stdout"
        }
      ]
    },
    {
      "cell_type": "code",
      "metadata": {
        "colab": {
          "base_uri": "https://localhost:8080/"
        },
        "id": "ErduoaJckcKP",
        "outputId": "aedf2d09-7e9c-44dd-ca59-08f10da5ec93"
      },
      "source": [
        "print(np.ones((3,3), dtype = np.float64))"
      ],
      "execution_count": 13,
      "outputs": [
        {
          "output_type": "stream",
          "text": [
            "[[1. 1. 1.]\n",
            " [1. 1. 1.]\n",
            " [1. 1. 1.]]\n"
          ],
          "name": "stdout"
        }
      ]
    },
    {
      "cell_type": "code",
      "metadata": {
        "colab": {
          "base_uri": "https://localhost:8080/"
        },
        "id": "e0FEMHlhko45",
        "outputId": "4df03885-e768-4577-c628-a8a04b8c9b33"
      },
      "source": [
        "print(np.arange(1,20, dtype = \"int32\"))"
      ],
      "execution_count": 14,
      "outputs": [
        {
          "output_type": "stream",
          "text": [
            "[ 1  2  3  4  5  6  7  8  9 10 11 12 13 14 15 16 17 18 19]\n"
          ],
          "name": "stdout"
        }
      ]
    },
    {
      "cell_type": "code",
      "metadata": {
        "colab": {
          "base_uri": "https://localhost:8080/"
        },
        "id": "DEC6WMsglt_o",
        "outputId": "058b4ff4-0290-4ee0-9114-7fb4b4f99ca6"
      },
      "source": [
        "print(np.arange (1,20,2, dtype=\"int8\"))"
      ],
      "execution_count": 15,
      "outputs": [
        {
          "output_type": "stream",
          "text": [
            "[ 1  3  5  7  9 11 13 15 17 19]\n"
          ],
          "name": "stdout"
        }
      ]
    },
    {
      "cell_type": "markdown",
      "metadata": {
        "id": "X587nufemEWV"
      },
      "source": [
        "#Practice Exercise:"
      ]
    },
    {
      "cell_type": "code",
      "metadata": {
        "colab": {
          "base_uri": "https://localhost:8080/"
        },
        "id": "aDO-kqZ3l_bO",
        "outputId": "3acd5b52-1282-4117-8792-28ce7107ba15"
      },
      "source": [
        "#1:\r\n",
        "\"\"\"\r\n",
        "Store the marks and IDs of three students as NumPy arrays.\r\n",
        "The marks are [20, 30, 40] and IDs are [0,2,4]. \r\n",
        "Store array for marks in a variable marks and the one for \r\n",
        "IDs in another variable ids. Display both marks and ids.\r\n",
        "\"\"\"\r\n",
        "\r\n",
        "marks = np.array([20,30,40])\r\n",
        "ids = np.array([0,2,4])\r\n",
        "print(np.vstack([marks, ids]))"
      ],
      "execution_count": 16,
      "outputs": [
        {
          "output_type": "stream",
          "text": [
            "[[20 30 40]\n",
            " [ 0  2  4]]\n"
          ],
          "name": "stdout"
        }
      ]
    },
    {
      "cell_type": "code",
      "metadata": {
        "colab": {
          "base_uri": "https://localhost:8080/"
        },
        "id": "uIrdEcaxnVBg",
        "outputId": "5789c3dd-6133-4591-962f-631e6ba49d44"
      },
      "source": [
        "#2\r\n",
        "\"\"\"\r\n",
        "Given two NumPy arrays arr1 = [25, 56, 12, 85, 34, 75] and \r\n",
        "arr2 = [42, 3, 86, 32, 856, 46], solve the following:\r\n",
        "\r\n",
        "a. Create a new NumPy array Narr with the shape equal to arr1 filled with \r\n",
        "random values.\r\n",
        "\r\n",
        "b. Permanently change the dtype of arr1 to complex\r\n",
        "\"\"\"\r\n",
        "\r\n",
        "# 2a.\r\n",
        "arr1 = np.array([25, 56, 12, 85, 34, 75])\r\n",
        "arr2 = np.array([42, 3, 86, 32, 856, 46])\r\n",
        "\r\n",
        "narr = np.random.rand(arr1.size)\r\n",
        "print(narr)\r\n"
      ],
      "execution_count": 17,
      "outputs": [
        {
          "output_type": "stream",
          "text": [
            "[0.06032758 0.740138   0.43988156 0.98577345 0.33443399 0.84496557]\n"
          ],
          "name": "stdout"
        }
      ]
    },
    {
      "cell_type": "code",
      "metadata": {
        "colab": {
          "base_uri": "https://localhost:8080/"
        },
        "id": "OWRIQ6w3pahH",
        "outputId": "7d2c718d-04f3-427a-cef4-72fe65b34faf"
      },
      "source": [
        "# 2b.\r\n",
        "arr1 = arr1.astype('complex128')\r\n",
        "print(arr1)"
      ],
      "execution_count": 18,
      "outputs": [
        {
          "output_type": "stream",
          "text": [
            "[25.+0.j 56.+0.j 12.+0.j 85.+0.j 34.+0.j 75.+0.j]\n"
          ],
          "name": "stdout"
        }
      ]
    },
    {
      "cell_type": "code",
      "metadata": {
        "colab": {
          "base_uri": "https://localhost:8080/"
        },
        "id": "4mtNmCLhrfoJ",
        "outputId": "2305d035-0d83-4522-b5a5-866587588462"
      },
      "source": [
        "print(arr1.dtype)"
      ],
      "execution_count": 19,
      "outputs": [
        {
          "output_type": "stream",
          "text": [
            "complex128\n"
          ],
          "name": "stdout"
        }
      ]
    },
    {
      "cell_type": "markdown",
      "metadata": {
        "id": "pImC1e_NwSmV"
      },
      "source": [
        "#**INDEXING AND SLICING**"
      ]
    },
    {
      "cell_type": "code",
      "metadata": {
        "colab": {
          "base_uri": "https://localhost:8080/"
        },
        "id": "ji_MYl-Jv7qP",
        "outputId": "6a623971-f3cb-4295-dabd-53eb7951bede"
      },
      "source": [
        "a = np.array([[1,2,3],[4,5,6],[7,8,9]])\r\n",
        "\r\n",
        "#  pull out second element of third row\r\n",
        "print(a[2][1])\r\n",
        "print('----')\r\n",
        "# pull out first two rows and columns\r\n",
        "print(a[:2, :2])\r\n",
        "print('----')\r\n",
        "# pull out all the elements of the third row\r\n",
        "print(a[2, :])"
      ],
      "execution_count": 20,
      "outputs": [
        {
          "output_type": "stream",
          "text": [
            "8\n",
            "----\n",
            "[[1 2]\n",
            " [4 5]]\n",
            "----\n",
            "[7 8 9]\n"
          ],
          "name": "stdout"
        }
      ]
    },
    {
      "cell_type": "markdown",
      "metadata": {
        "id": "TxwskpThxorR"
      },
      "source": [
        "##Integer Array indexing"
      ]
    },
    {
      "cell_type": "code",
      "metadata": {
        "colab": {
          "base_uri": "https://localhost:8080/"
        },
        "id": "U2MNeh9_xBMe",
        "outputId": "d487dcce-ca32-4cf4-f453-fa47d3464587"
      },
      "source": [
        "a=np.array([[1,2],[3,4],[5,6]])\r\n",
        "print(a[[0,1,2],[0,1,0]])\r\n",
        "print('----')\r\n",
        "\r\n",
        "print(np.array([a[0,0],a[1,1],a[2,0]]))\r\n",
        "print('----')\r\n",
        "\r\n",
        "print(a[[0,0],[1,1]])\r\n",
        "print('----')\r\n",
        "\r\n",
        "print(np.array([a[0,1], a[0,1]]))"
      ],
      "execution_count": 21,
      "outputs": [
        {
          "output_type": "stream",
          "text": [
            "[1 4 5]\n",
            "----\n",
            "[1 4 5]\n",
            "----\n",
            "[2 2]\n",
            "----\n",
            "[2 2]\n"
          ],
          "name": "stdout"
        }
      ]
    },
    {
      "cell_type": "code",
      "metadata": {
        "colab": {
          "base_uri": "https://localhost:8080/"
        },
        "id": "OihmOU5VZ1bC",
        "outputId": "adcb778d-82ad-4127-e67d-693ad10fc4d8"
      },
      "source": [
        "a = np.array([[4,7,1],[2,5,7],[7,1,1]])\r\n",
        "\r\n",
        "#boolean condition for values greater than 3\r\n",
        "mask = a > 3\r\n",
        "\r\n",
        "# masking for the above boolean condition in the array\r\n",
        "print(a[mask])"
      ],
      "execution_count": 22,
      "outputs": [
        {
          "output_type": "stream",
          "text": [
            "[4 7 5 7 7]\n"
          ],
          "name": "stdout"
        }
      ]
    },
    {
      "cell_type": "code",
      "metadata": {
        "colab": {
          "base_uri": "https://localhost:8080/"
        },
        "id": "AfQc1ZGpa0DD",
        "outputId": "577b576a-a1a9-4244-c46f-3c19d2509461"
      },
      "source": [
        "#example\r\n",
        "\r\n",
        "import numpy as np\r\n",
        "arr = np.array([1,2,3,4,5,6,7])\r\n",
        "print(arr[arr>2])\r\n"
      ],
      "execution_count": 23,
      "outputs": [
        {
          "output_type": "stream",
          "text": [
            "[3 4 5 6 7]\n"
          ],
          "name": "stdout"
        }
      ]
    },
    {
      "cell_type": "code",
      "metadata": {
        "id": "TSgdyvfpbciQ"
      },
      "source": [
        "# creating two arrays for operations\r\n",
        "a = np.array([[1,2,3],[4,5,6],[7,8,9]])\r\n",
        "b = np.array([[10,11,12],[13,14,15],[16,17,18]])"
      ],
      "execution_count": 24,
      "outputs": []
    },
    {
      "cell_type": "code",
      "metadata": {
        "colab": {
          "base_uri": "https://localhost:8080/"
        },
        "id": "dfPiHyYlebHY",
        "outputId": "26be5db9-2c76-48a1-970c-2eb75369e711"
      },
      "source": [
        "print(a+b)"
      ],
      "execution_count": 25,
      "outputs": [
        {
          "output_type": "stream",
          "text": [
            "[[11 13 15]\n",
            " [17 19 21]\n",
            " [23 25 27]]\n"
          ],
          "name": "stdout"
        }
      ]
    },
    {
      "cell_type": "code",
      "metadata": {
        "colab": {
          "base_uri": "https://localhost:8080/"
        },
        "id": "DZpn4Fg9edVk",
        "outputId": "200ad500-86bf-496a-dfbf-b7fb76295b62"
      },
      "source": [
        "print(a-b)"
      ],
      "execution_count": 26,
      "outputs": [
        {
          "output_type": "stream",
          "text": [
            "[[-9 -9 -9]\n",
            " [-9 -9 -9]\n",
            " [-9 -9 -9]]\n"
          ],
          "name": "stdout"
        }
      ]
    },
    {
      "cell_type": "code",
      "metadata": {
        "colab": {
          "base_uri": "https://localhost:8080/"
        },
        "id": "AAKk4hZCehDy",
        "outputId": "13aafca9-894a-4123-92c3-dace68b1d61e"
      },
      "source": [
        "print(a*b)"
      ],
      "execution_count": 27,
      "outputs": [
        {
          "output_type": "stream",
          "text": [
            "[[ 10  22  36]\n",
            " [ 52  70  90]\n",
            " [112 136 162]]\n"
          ],
          "name": "stdout"
        }
      ]
    },
    {
      "cell_type": "code",
      "metadata": {
        "colab": {
          "base_uri": "https://localhost:8080/"
        },
        "id": "TWlcQfx_ekL4",
        "outputId": "cbc0c026-14ad-458b-d38a-beb14ae064f9"
      },
      "source": [
        "print(a/b)"
      ],
      "execution_count": 28,
      "outputs": [
        {
          "output_type": "stream",
          "text": [
            "[[0.1        0.18181818 0.25      ]\n",
            " [0.30769231 0.35714286 0.4       ]\n",
            " [0.4375     0.47058824 0.5       ]]\n"
          ],
          "name": "stdout"
        }
      ]
    },
    {
      "cell_type": "code",
      "metadata": {
        "colab": {
          "base_uri": "https://localhost:8080/"
        },
        "id": "mI3F-_Vdemks",
        "outputId": "133c095c-f23e-413a-f8ef-dcea2d36fbd6"
      },
      "source": [
        "# square root transformation\r\n",
        "a = np.array([[1,4,9],[16,25,36]])\r\n",
        "print(np.sqrt(a))"
      ],
      "execution_count": 29,
      "outputs": [
        {
          "output_type": "stream",
          "text": [
            "[[1. 2. 3.]\n",
            " [4. 5. 6.]]\n"
          ],
          "name": "stdout"
        }
      ]
    },
    {
      "cell_type": "code",
      "metadata": {
        "colab": {
          "base_uri": "https://localhost:8080/",
          "height": 35
        },
        "id": "EbctrSQtfGXV",
        "outputId": "be3c6074-5d75-4f3b-e261-6e0d33885dd5"
      },
      "source": [
        "# these functions can also be like\r\n",
        "'''\r\n",
        "np.add(a,b)\r\n",
        "np.substract(a,b)\r\n",
        "np.multiply(a,b)\r\n",
        "np.divide(a,b)\r\n",
        "np.sqrt(a)\r\n",
        "np.log(a)\r\n",
        "'''"
      ],
      "execution_count": 30,
      "outputs": [
        {
          "output_type": "execute_result",
          "data": {
            "application/vnd.google.colaboratory.intrinsic+json": {
              "type": "string"
            },
            "text/plain": [
              "'\\nnp.add(a,b)\\nnp.substract(a,b)\\nnp.multiply(a,b)\\nnp.divide(a,b)\\nnp.sqrt(a)\\nnp.log(a)\\n'"
            ]
          },
          "metadata": {
            "tags": []
          },
          "execution_count": 30
        }
      ]
    },
    {
      "cell_type": "code",
      "metadata": {
        "colab": {
          "base_uri": "https://localhost:8080/"
        },
        "id": "V2uM7NvFfY_6",
        "outputId": "01a42090-bd54-450e-adf2-37f48368f123"
      },
      "source": [
        "a = np.array([[1,2,3],[4,5,6],[7,8,9]])\r\n",
        "b = np.array([[10,11,12],[13,14,15],[16,17,18]])\r\n",
        "print(np.add(a,b))\r\n",
        "print(np.subtract(a,b))\r\n",
        "print(np.multiply(a,b))\r\n",
        "print(np.divide(a,b))\r\n",
        "print(np.sqrt(a))\r\n",
        "print(np.log(a))"
      ],
      "execution_count": 31,
      "outputs": [
        {
          "output_type": "stream",
          "text": [
            "[[11 13 15]\n",
            " [17 19 21]\n",
            " [23 25 27]]\n",
            "[[-9 -9 -9]\n",
            " [-9 -9 -9]\n",
            " [-9 -9 -9]]\n",
            "[[ 10  22  36]\n",
            " [ 52  70  90]\n",
            " [112 136 162]]\n",
            "[[0.1        0.18181818 0.25      ]\n",
            " [0.30769231 0.35714286 0.4       ]\n",
            " [0.4375     0.47058824 0.5       ]]\n",
            "[[1.         1.41421356 1.73205081]\n",
            " [2.         2.23606798 2.44948974]\n",
            " [2.64575131 2.82842712 3.        ]]\n",
            "[[0.         0.69314718 1.09861229]\n",
            " [1.38629436 1.60943791 1.79175947]\n",
            " [1.94591015 2.07944154 2.19722458]]\n"
          ],
          "name": "stdout"
        }
      ]
    },
    {
      "cell_type": "code",
      "metadata": {
        "colab": {
          "base_uri": "https://localhost:8080/"
        },
        "id": "dPrPyhGKevMm",
        "outputId": "e5bad0b3-0cc6-479c-8c8b-46d962b13a89"
      },
      "source": [
        "#practice usages can be like:\r\n",
        "'''\r\n",
        "a.sum() Array-wise sum\r\n",
        "a.min() Array-wise minimum value\r\n",
        "a.max(axis=0) Maximum value of an array row\r\n",
        "a.cumsum(axis=1) Cumulative sum of the elements\r\n",
        "a.mean() Mean\r\n",
        "np.median(a) Median\r\n",
        "np.corrcoef(a) Correlation coefficient\r\n",
        "np.std(a) Standard deviation\r\n",
        "'''\r\n",
        "print(a.sum())\r\n",
        "print(a.min())\r\n",
        "print(a.max(axis = 0))\r\n",
        "print(a.cumsum(axis = 1))\r\n",
        "print(a.mean())\r\n",
        "print(np.median(a))\r\n",
        "print(np.corrcoef(a))\r\n",
        "print(np.std(a))"
      ],
      "execution_count": 32,
      "outputs": [
        {
          "output_type": "stream",
          "text": [
            "45\n",
            "1\n",
            "[7 8 9]\n",
            "[[ 1  3  6]\n",
            " [ 4  9 15]\n",
            " [ 7 15 24]]\n",
            "5.0\n",
            "5.0\n",
            "[[1. 1. 1.]\n",
            " [1. 1. 1.]\n",
            " [1. 1. 1.]]\n",
            "2.581988897471611\n"
          ],
          "name": "stdout"
        }
      ]
    },
    {
      "cell_type": "code",
      "metadata": {
        "colab": {
          "base_uri": "https://localhost:8080/"
        },
        "id": "dB7IlB_EgCet",
        "outputId": "da04cb84-487e-4fa0-868a-4beced87a555"
      },
      "source": [
        "# roots of a qudratic equation can be calculated\r\n",
        "coefficients = np.array([1,-4,4])\r\n",
        "roots = np.roots(coefficients)\r\n",
        "print(roots)"
      ],
      "execution_count": 33,
      "outputs": [
        {
          "output_type": "stream",
          "text": [
            "[2. 2.]\n"
          ],
          "name": "stdout"
        }
      ]
    },
    {
      "cell_type": "code",
      "metadata": {
        "colab": {
          "base_uri": "https://localhost:8080/"
        },
        "id": "JE9XXQqaf_-0",
        "outputId": "12f2aca2-8085-4392-a58b-47beb79da6fb"
      },
      "source": [
        "# array comparison\r\n",
        "a = np.array([5,6,7,8])\r\n",
        "b = np.array([5,6,7,8])\r\n",
        "print(np.array_equal(a,b))"
      ],
      "execution_count": 34,
      "outputs": [
        {
          "output_type": "stream",
          "text": [
            "True\n"
          ],
          "name": "stdout"
        }
      ]
    },
    {
      "cell_type": "code",
      "metadata": {
        "colab": {
          "base_uri": "https://localhost:8080/"
        },
        "id": "_XuOXCpbgsnB",
        "outputId": "da4e099d-f7a1-4465-813e-2f164edc90df"
      },
      "source": [
        "# axes notation\r\n",
        "a = np.array([[2,5,7],[4,25,30]])\r\n",
        "\r\n",
        "# computes the sum over column\r\n",
        "print(np.sum(a, axis=0))\r\n",
        "\r\n",
        "# computes the sum over rows\r\n",
        "print(np.sum(a, axis=1))\r\n",
        "\r\n",
        "print(np.sum(a))"
      ],
      "execution_count": 35,
      "outputs": [
        {
          "output_type": "stream",
          "text": [
            "[ 6 30 37]\n",
            "[14 59]\n",
            "73\n"
          ],
          "name": "stdout"
        }
      ]
    },
    {
      "cell_type": "markdown",
      "metadata": {
        "id": "WW5lC6JSibIz"
      },
      "source": [
        "#Practice Exercises"
      ]
    },
    {
      "cell_type": "code",
      "metadata": {
        "colab": {
          "base_uri": "https://localhost:8080/",
          "height": 103
        },
        "id": "O-s7yKWRhHJs",
        "outputId": "c562cf43-2b54-426b-f799-b9d55ebe4830"
      },
      "source": [
        "'''\r\n",
        "We have a buy sell problem:\r\n",
        "\r\n",
        "Initialize an array [[40, 35, 20], [21, 48, 70]] which constitutes the prices\r\n",
        "on 2 consecutive day at 3 different sessions of the day. The objective is to\r\n",
        "buy at minimum price on day 1 and sell at maximum on day.\r\n",
        "\r\n",
        "1.Find the minimum price on day 1.\r\n",
        "2.Find the maximum price on day 2.\r\n",
        "3.Calculate the profit and print it.\r\n",
        "4.Find the index of the session on which buying and selling took place.\r\n",
        "Hint:\r\n",
        "Use array.min() and array.max() to find the minimum and maximum prices.\r\n",
        "Filter arrays for different days using array[0:] and array[1:]\r\n",
        "Index = list(array).index(value)\r\n",
        "'''"
      ],
      "execution_count": 36,
      "outputs": [
        {
          "output_type": "execute_result",
          "data": {
            "application/vnd.google.colaboratory.intrinsic+json": {
              "type": "string"
            },
            "text/plain": [
              "'\\nWe have a buy sell problem:\\n\\nInitialize an array [[40, 35, 20], [21, 48, 70]] which constitutes the prices\\non 2 consecutive day at 3 different sessions of the day. The objective is to\\nbuy at minimum price on day 1 and sell at maximum on day.\\n\\n1.Find the minimum price on day 1.\\n2.Find the maximum price on day 2.\\n3.Calculate the profit and print it.\\n4.Find the index of the session on which buying and selling took place.\\nHint:\\nUse array.min() and array.max() to find the minimum and maximum prices.\\nFilter arrays for different days using array[0:] and array[1:]\\nIndex = list(array).index(value)\\n'"
            ]
          },
          "metadata": {
            "tags": []
          },
          "execution_count": 36
        }
      ]
    },
    {
      "cell_type": "code",
      "metadata": {
        "colab": {
          "base_uri": "https://localhost:8080/"
        },
        "id": "9NUOD899jDdQ",
        "outputId": "c32bb673-8651-4891-9771-c4d3d3f3d88e"
      },
      "source": [
        "arr = np.array([[40, 35, 20], [21, 48, 70]])\r\n",
        "\r\n",
        "print('1.',np.min(arr[0]))\r\n",
        "print('2.',np.max(arr[1]))\r\n",
        "print('3.',np.sum(arr))\r\n",
        "index1 = arr[0,0]\r\n",
        "index2 = arr[0,1]\r\n",
        "index3 = arr[0,2]\r\n",
        "index4 = arr[1,0]\r\n",
        "index5 = arr[1,1]\r\n",
        "index6 = arr[1,2]\r\n",
        "print(index1)\r\n",
        "print(index2)\r\n",
        "print(index3)\r\n",
        "print(index4)\r\n",
        "print(index5)\r\n",
        "print(index6)"
      ],
      "execution_count": 37,
      "outputs": [
        {
          "output_type": "stream",
          "text": [
            "1. 20\n",
            "2. 70\n",
            "3. 234\n",
            "40\n",
            "35\n",
            "20\n",
            "21\n",
            "48\n",
            "70\n"
          ],
          "name": "stdout"
        }
      ]
    },
    {
      "cell_type": "code",
      "metadata": {
        "colab": {
          "base_uri": "https://localhost:8080/"
        },
        "id": "Pojv0AVMj9UE",
        "outputId": "c1607ec4-6e2b-4597-c80d-5944e2ac2a7d"
      },
      "source": [
        "# broad casting\r\n",
        "np.arange(3)+4"
      ],
      "execution_count": 38,
      "outputs": [
        {
          "output_type": "execute_result",
          "data": {
            "text/plain": [
              "array([4, 5, 6])"
            ]
          },
          "metadata": {
            "tags": []
          },
          "execution_count": 38
        }
      ]
    },
    {
      "cell_type": "code",
      "metadata": {
        "colab": {
          "base_uri": "https://localhost:8080/"
        },
        "id": "AFMhMxoJtwAE",
        "outputId": "fd3797b8-0469-491f-933a-1148a4add978"
      },
      "source": [
        "np.ones((3,3)) + np.arange(3)"
      ],
      "execution_count": 39,
      "outputs": [
        {
          "output_type": "execute_result",
          "data": {
            "text/plain": [
              "array([[1., 2., 3.],\n",
              "       [1., 2., 3.],\n",
              "       [1., 2., 3.]])"
            ]
          },
          "metadata": {
            "tags": []
          },
          "execution_count": 39
        }
      ]
    },
    {
      "cell_type": "code",
      "metadata": {
        "colab": {
          "base_uri": "https://localhost:8080/"
        },
        "id": "mNJBlQ4bt81P",
        "outputId": "a1409f3c-7e33-4e8b-bc6a-4689a1efb160"
      },
      "source": [
        "np.arange(3).reshape((3,1)) + np.arange(3)"
      ],
      "execution_count": 40,
      "outputs": [
        {
          "output_type": "execute_result",
          "data": {
            "text/plain": [
              "array([[0, 1, 2],\n",
              "       [1, 2, 3],\n",
              "       [2, 3, 4]])"
            ]
          },
          "metadata": {
            "tags": []
          },
          "execution_count": 40
        }
      ]
    },
    {
      "cell_type": "markdown",
      "metadata": {
        "id": "GMdLaFYEEb7y"
      },
      "source": [
        "#Practice Exercise"
      ]
    },
    {
      "cell_type": "code",
      "metadata": {
        "id": "_9T-12EWuPAv"
      },
      "source": [
        "'''\r\n",
        "1.Create a random 5x5 matrix with the help of np.random.random((5,5))\r\n",
        "2.Calculate the minimum and maximum value with the help of .min() and \r\n",
        ".max() methods respectively\r\n",
        "3.Now using the power of broadcasting subtract the minimum value from each\r\n",
        " element and divide by their range (maximum-minimum) to normalize. \r\n",
        " Save this normalized as z_norm\r\n",
        "4.Print the standardized array\r\n",
        "'''\r\n",
        "\r\n",
        "arr = np.random.random((5,5))\r\n",
        "max = np.max(arr)\r\n",
        "min = np.min(arr)\r\n",
        "range = max - min\r\n",
        "def z_norm():\r\n",
        "  for i in arr:\r\n",
        "    print((i-min)/range)"
      ],
      "execution_count": 41,
      "outputs": []
    },
    {
      "cell_type": "code",
      "metadata": {
        "colab": {
          "base_uri": "https://localhost:8080/"
        },
        "id": "aotueui2E_47",
        "outputId": "1cd36e9e-e1b2-4b80-f01c-23e5295e88f8"
      },
      "source": [
        "z_norm()"
      ],
      "execution_count": 42,
      "outputs": [
        {
          "output_type": "stream",
          "text": [
            "[0.90331504 0.07666305 0.20335354 0.83098513 0.97026908]\n",
            "[0.38444675 0.32147075 1.         0.3241772  0.78157976]\n",
            "[0.29140187 0.61792711 0.36395409 0.76370484 0.3264132 ]\n",
            "[0.23368466 0.47445274 0.36865205 0.98736173 0.        ]\n",
            "[0.61769326 0.82517542 0.35333482 0.2294131  0.98260338]\n"
          ],
          "name": "stdout"
        }
      ]
    },
    {
      "cell_type": "code",
      "metadata": {
        "id": "cYMAwhkiIh2z"
      },
      "source": [
        "data_file = '/content/sample_data/makeSenseOfCensus.txt'"
      ],
      "execution_count": 43,
      "outputs": []
    },
    {
      "cell_type": "code",
      "metadata": {
        "colab": {
          "base_uri": "https://localhost:8080/"
        },
        "id": "4h9WxVpnJcft",
        "outputId": "238011e8-8c1e-4300-fb07-cb08f29c3ee9"
      },
      "source": [
        "data = np.genfromtxt(data_file, delimiter=',', skip_header=1)\r\n",
        "\r\n",
        "# printing the data\r\n",
        "\r\n",
        "print(\"\\nData: \\n\\n\", data)"
      ],
      "execution_count": 44,
      "outputs": [
        {
          "output_type": "stream",
          "text": [
            "\n",
            "Data: \n",
            "\n",
            " [[39. 13.  4. ...  0. 40.  0.]\n",
            " [50. 13.  4. ...  0. 13.  0.]\n",
            " [38.  9.  4. ...  0. 40.  0.]\n",
            " ...\n",
            " [48. 13.  4. ...  0. 58.  1.]\n",
            " [40. 10.  4. ...  0. 40.  0.]\n",
            " [39. 13.  4. ...  0. 50.  1.]]\n"
          ],
          "name": "stdout"
        }
      ]
    },
    {
      "cell_type": "code",
      "metadata": {
        "colab": {
          "base_uri": "https://localhost:8080/"
        },
        "id": "r1nM-HumPX37",
        "outputId": "aa826afd-fd16-4697-ed67-3eb5ecf1148d"
      },
      "source": [
        "data.shape"
      ],
      "execution_count": 45,
      "outputs": [
        {
          "output_type": "execute_result",
          "data": {
            "text/plain": [
              "(1000, 8)"
            ]
          },
          "metadata": {
            "tags": []
          },
          "execution_count": 45
        }
      ]
    },
    {
      "cell_type": "code",
      "metadata": {
        "colab": {
          "base_uri": "https://localhost:8080/"
        },
        "id": "our_z69dJ3lb",
        "outputId": "b00e5eca-f9f0-43fa-c245-5564ed03cb2c"
      },
      "source": [
        "print('\\nDATA: \\n\\n', type(data))"
      ],
      "execution_count": 46,
      "outputs": [
        {
          "output_type": "stream",
          "text": [
            "\n",
            "DATA: \n",
            "\n",
            " <class 'numpy.ndarray'>\n"
          ],
          "name": "stdout"
        }
      ]
    },
    {
      "cell_type": "code",
      "metadata": {
        "colab": {
          "base_uri": "https://localhost:8080/"
        },
        "id": "T1aJ62ltLdTs",
        "outputId": "0221c054-4aed-43d5-af36-f9cd828fa52f"
      },
      "source": [
        "new_record=[[50, 9, 4, 1, 0, 0, 40, 0]]\r\n",
        "np.concatenate((data, new_record))"
      ],
      "execution_count": 47,
      "outputs": [
        {
          "output_type": "execute_result",
          "data": {
            "text/plain": [
              "array([[39., 13.,  4., ...,  0., 40.,  0.],\n",
              "       [50., 13.,  4., ...,  0., 13.,  0.],\n",
              "       [38.,  9.,  4., ...,  0., 40.,  0.],\n",
              "       ...,\n",
              "       [40., 10.,  4., ...,  0., 40.,  0.],\n",
              "       [39., 13.,  4., ...,  0., 50.,  1.],\n",
              "       [50.,  9.,  4., ...,  0., 40.,  0.]])"
            ]
          },
          "metadata": {
            "tags": []
          },
          "execution_count": 47
        }
      ]
    },
    {
      "cell_type": "code",
      "metadata": {
        "colab": {
          "base_uri": "https://localhost:8080/"
        },
        "id": "7OnHzQgrLoRV",
        "outputId": "52e0280e-f0eb-4424-d207-2659d003b50e"
      },
      "source": [
        "# Step 3 : Check if it's a young country or old country\r\n",
        "'''\r\n",
        "Create a new array called 'age' by taking only age column(age is \r\n",
        "the column with index 0) of 'census' array.\r\n",
        "\r\n",
        "Find the max age and store it in a variable called 'max_age'.\r\n",
        "\r\n",
        "Find the min age and store it in a variable called 'min_age'.\r\n",
        "\r\n",
        "Find the mean of the age and store it in a variable called 'age_mean'.\r\n",
        "\r\n",
        "Find the standard deviation of the age and store it in a variable \r\n",
        "called 'age_std'\r\n",
        "\r\n",
        "'''\r\n",
        "\r\n",
        "age = data[:,0]\r\n",
        "max_age = np.max(age)\r\n",
        "min_age = np.min(age)\r\n",
        "avg_age = age.mean()\r\n",
        "std_age = np.std(age)\r\n",
        "avg_age"
      ],
      "execution_count": 48,
      "outputs": [
        {
          "output_type": "execute_result",
          "data": {
            "text/plain": [
              "38.051"
            ]
          },
          "metadata": {
            "tags": []
          },
          "execution_count": 48
        }
      ]
    },
    {
      "cell_type": "code",
      "metadata": {
        "colab": {
          "base_uri": "https://localhost:8080/"
        },
        "id": "ZYZ85NkEP6ZG",
        "outputId": "1b036df0-f5ee-4002-e128-7bd6ce9ada64"
      },
      "source": [
        "#Step 4: Let's check the country's race distribution to identify the minorities\r\n",
        "'''\r\n",
        "Create four different arrays by subsetting 'census' array by Race column\r\n",
        "(Race is the column with index 2) and save them in 'race_0','race_1', \r\n",
        "'race_2', 'race_3' and 'race_4' respectively(Meaning: Store the array \r\n",
        "where 'race'column has value 0 in 'race_0', so on and so forth)\r\n",
        "\r\n",
        "Store the length of the above created arrays in 'len_0', 'len_1','len_2',\r\n",
        " 'len_3' and 'len_4' respectively\r\n",
        "\r\n",
        "Find out which is the race with the minimum no. of citizens\r\n",
        "\r\n",
        "Store the number associated with the minority race in a variable called \r\n",
        "'minority_race'(For eg: if \"len(race_5)\" is the minimum, store 5 in \r\n",
        "'minority_race' because that is the index of the race having the least\r\n",
        " no. of citizens )\r\n",
        "'''\r\n",
        "race_0 = data[data[:,2] == 0]\r\n",
        "race_1 = data[data[:,2] == 1]\r\n",
        "race_2 = data[data[:,2] == 2]\r\n",
        "race_3 = data[data[:,2] == 3]\r\n",
        "race_4 = data[data[:,2] == 4]\r\n",
        "\r\n",
        "len_0 = len(race_0)\r\n",
        "len_1 = len(race_1)\r\n",
        "len_2 = len(race_2)\r\n",
        "len_3 = len(race_3)\r\n",
        "len_4 = len(race_4)\r\n",
        "\r\n",
        "print(len_0)\r\n",
        "print(len_1)\r\n",
        "print(len_2)\r\n",
        "print(len_3)\r\n",
        "print(len_4)"
      ],
      "execution_count": 49,
      "outputs": [
        {
          "output_type": "stream",
          "text": [
            "10\n",
            "27\n",
            "110\n",
            "6\n",
            "847\n"
          ],
          "name": "stdout"
        }
      ]
    },
    {
      "cell_type": "code",
      "metadata": {
        "id": "dnmDpkKnQEIp"
      },
      "source": [
        "minority_race = race_3"
      ],
      "execution_count": 50,
      "outputs": []
    },
    {
      "cell_type": "code",
      "metadata": {
        "colab": {
          "base_uri": "https://localhost:8080/"
        },
        "id": "jpgqcug7ZKxf",
        "outputId": "9838f996-08bf-466f-8513-69b3a3f35c78"
      },
      "source": [
        "# Step 5: As per govt. records citizens above 60 should not work more than 25\r\n",
        "# hours a week. Let us check if the policy is in place\r\n",
        "\r\n",
        "'''\r\n",
        "1.Create a new subset array called 'senior_citizens' by filtering 'census' \r\n",
        "according to age>60 (age is the column with index 0)\r\n",
        "\r\n",
        "2.Add all the working hours(working hours is the column with index 6) of \r\n",
        "'senior_citizens' and store it in a variable called 'working_hours_sum'\r\n",
        "\r\n",
        "3.Find the length of 'senior_citizens' and store it in a variable called \r\n",
        "'senior_citizens_len'\r\n",
        "\r\n",
        "4.Finally find the average working hours of the senior citizens by dividing \r\n",
        "'working_hours_sum' by 'senior_citizens_len' and store it in a variable called\r\n",
        " 'avg_working hours'.\r\n",
        "\r\n",
        "5.Print 'avg_working_hours' and see if the govt. policy is followed.\r\n",
        "'''\r\n",
        "\r\n",
        "senior_citizens = data[:,0]>60\r\n",
        "working_hours_sum =sum(data[senior_citizens, 6])\r\n",
        "senior_citizens_len = len(data[data[:,0]>60])\r\n",
        "avg_working_hours = working_hours_sum/senior_citizens_len\r\n",
        "avg_working_hours"
      ],
      "execution_count": 51,
      "outputs": [
        {
          "output_type": "execute_result",
          "data": {
            "text/plain": [
              "31.42622950819672"
            ]
          },
          "metadata": {
            "tags": []
          },
          "execution_count": 51
        }
      ]
    },
    {
      "cell_type": "code",
      "metadata": {
        "id": "PalGjI_jZMYJ"
      },
      "source": [
        "#Step 6: Let's check that higher educated people have better pay in general.\r\n",
        "'''\r\n",
        "Create two new subset arrays called 'high' and 'low' by filtering 'census'\r\n",
        " according to education-num>10 and education-num<=10 (education-num is the \r\n",
        " column with index 1) respectively.\r\n",
        "\r\n",
        "Find the mean of income column(income is the column with index 7) of 'high' \r\n",
        "array and store it in 'avg_pay_high'. Do the same for 'low' array and store \r\n",
        "it's mean in 'avg_pay_low'.\r\n",
        "'''\r\n",
        "high = data[:,1]>10\r\n",
        "\r\n",
        "low = data[:,1]<=10\r\n",
        "\r\n",
        "avg_pay_high = data[high, 7].mean()\r\n",
        "avg_pay_low = data[low, 7].mean()"
      ],
      "execution_count": 52,
      "outputs": []
    },
    {
      "cell_type": "code",
      "metadata": {
        "id": "bqRcazQnhLse"
      },
      "source": [
        "data_file = '/content/sample_data/KAG_Conversion_Data.txt'"
      ],
      "execution_count": 53,
      "outputs": []
    },
    {
      "cell_type": "code",
      "metadata": {
        "colab": {
          "base_uri": "https://localhost:8080/"
        },
        "id": "uCi4Lkf6e86_",
        "outputId": "acac9381-f9b6-4a75-ba5f-490fe4d76d19"
      },
      "source": [
        "data = np.genfromtxt(data_file, delimiter=',', skip_header=1)\r\n",
        "\r\n",
        "# printing the data\r\n",
        "\r\n",
        "print(\"\\nData: \\n\\n\", data)"
      ],
      "execution_count": 54,
      "outputs": [
        {
          "output_type": "stream",
          "text": [
            "\n",
            "Data: \n",
            "\n",
            " [[7.08746000e+05 9.16000000e+02 1.03916000e+05 ... 1.42999995e+00\n",
            "  2.00000000e+00 1.00000000e+00]\n",
            " [7.08749000e+05 9.16000000e+02 1.03917000e+05 ... 1.82000002e+00\n",
            "  2.00000000e+00 0.00000000e+00]\n",
            " [7.08771000e+05 9.16000000e+02 1.03920000e+05 ... 0.00000000e+00\n",
            "  1.00000000e+00 0.00000000e+00]\n",
            " ...\n",
            " [1.31441200e+06 1.17800000e+03 1.79979000e+05 ... 4.02899995e+01\n",
            "  2.00000000e+00 0.00000000e+00]\n",
            " [1.31441400e+06 1.17800000e+03 1.79981000e+05 ... 1.98710001e+02\n",
            "  8.00000000e+00 2.00000000e+00]\n",
            " [1.31441500e+06 1.17800000e+03 1.79982000e+05 ... 1.65609999e+02\n",
            "  5.00000000e+00 2.00000000e+00]]\n"
          ],
          "name": "stdout"
        }
      ]
    },
    {
      "cell_type": "code",
      "metadata": {
        "colab": {
          "base_uri": "https://localhost:8080/"
        },
        "id": "erWSXnG-heFH",
        "outputId": "26d41f7f-7586-4547-bc23-66ae2daace71"
      },
      "source": [
        "# instructions\r\n",
        "\r\n",
        "'''\r\n",
        "Load the data. Data is already given to you in variable path\r\n",
        "\r\n",
        "How many unique ad campaigns (xyzcampaignid) does this data contain ? \r\n",
        "And for how many times was each campaign run ?\r\n",
        "\r\n",
        "What are the age groups that were targeted through these ad campaigns?\r\n",
        "\r\n",
        "What was the average, minimum and maximum amount spent on the ads?\r\n",
        "\r\n",
        "What is the id of the ad having the maximum number of clicks ?\r\n",
        "\r\n",
        "How many people bought the product after seeing the ad with most clicks? \r\n",
        "Is that the maximum number of purchases in this dataset?\r\n",
        "\r\n",
        "So the ad with the most clicks didn't fetch the maximum number of purchases. \r\n",
        "Find the details of the product having maximum number of purchases\r\n",
        "'''\r\n",
        "unique_xyzcampaignid = np.unique(data[:,1])\r\n",
        "print(\"unique_xyzcampaignids:\" , unique_xyzcampaignid )\r\n",
        "len_916 = len(data[data[:,1]==916.])\r\n",
        "print('len_916:',len_916)\r\n",
        "len_936 = len(data[data[:,1]==936.])\r\n",
        "print('len_936:',len_936)\r\n",
        "len_1178 = len(data[data[:,1]==1178.])\r\n",
        "print('len_1178:',len_1178)"
      ],
      "execution_count": 55,
      "outputs": [
        {
          "output_type": "stream",
          "text": [
            "unique_xyzcampaignids: [ 916.  936. 1178.]\n",
            "len_916: 54\n",
            "len_936: 464\n",
            "len_1178: 625\n"
          ],
          "name": "stdout"
        }
      ]
    },
    {
      "cell_type": "code",
      "metadata": {
        "id": "FXKCKzEkjdSx"
      },
      "source": [
        "#What are the age groups that were targeted through these ad campaigns?\r\n",
        "# age_groups = np.unique(data[:,3])\r\n",
        "# age_groups"
      ],
      "execution_count": 56,
      "outputs": []
    },
    {
      "cell_type": "code",
      "metadata": {
        "id": "CjFn6nyQm1MP"
      },
      "source": [
        "# x = data[:[:1],3]"
      ],
      "execution_count": 57,
      "outputs": []
    },
    {
      "cell_type": "code",
      "metadata": {
        "id": "PXdSZEjbnkmP",
        "colab": {
          "base_uri": "https://localhost:8080/"
        },
        "outputId": "7cb352bd-2abc-43ba-f425-03f75bce29e2"
      },
      "source": [
        "#What was the average, minimum and maximum amount spent on the ads?\r\n",
        "money = data[:, 8]\r\n",
        "max_spent = np.max(money)\r\n",
        "print(max_spent)\r\n",
        "min_spent = np.min(money)\r\n",
        "print(min_spent)\r\n",
        "avg_spent = money.mean()\r\n",
        "print(avg_spent)"
      ],
      "execution_count": 58,
      "outputs": [
        {
          "output_type": "stream",
          "text": [
            "639.9499981\n",
            "0.0\n",
            "51.36065613141295\n"
          ],
          "name": "stdout"
        }
      ]
    },
    {
      "cell_type": "code",
      "metadata": {
        "colab": {
          "base_uri": "https://localhost:8080/"
        },
        "id": "dNfMYU_fh-h4",
        "outputId": "2ce96316-a874-4a30-b232-6ea133cb1cdd"
      },
      "source": [
        "#What is the id of the ad having the maximum number of clicks ?\r\n",
        "clic = data[:,7]\r\n",
        "mx_clik = np.max(clic)\r\n",
        "print('max_clicked:',mx_clik)\r\n",
        "id_loc = list(clic).index(421.0)\r\n",
        "id_no = data[id_loc, 0]\r\n",
        "print(\"ID of max clicked ad:\",id_no)"
      ],
      "execution_count": 59,
      "outputs": [
        {
          "output_type": "stream",
          "text": [
            "max_clicked: 421.0\n",
            "ID of max clicked ad: 1121814.0\n"
          ],
          "name": "stdout"
        }
      ]
    },
    {
      "cell_type": "code",
      "metadata": {
        "colab": {
          "base_uri": "https://localhost:8080/"
        },
        "id": "ehL20Jsri2OD",
        "outputId": "d8183754-efae-4125-9c9d-4a9bdd90b6c4"
      },
      "source": [
        "#How many people bought the product after seeing the ad with most clicks? \r\n",
        "#Is that the maximum number of purchases in this dataset?\r\n",
        "\r\n",
        "people_bought = data[id_loc, 10]\r\n",
        "print(people_bought, \"people bought the product after seeing the ad.\")\r\n",
        "max_purchases = np.max(data[:,10])\r\n",
        "print(max_purchases,\"is the maximum purchase in this dataset.\")"
      ],
      "execution_count": 60,
      "outputs": [
        {
          "output_type": "stream",
          "text": [
            "13.0 people bought the product after seeing the ad.\n",
            "21.0 is the maximum purchase in this dataset.\n"
          ],
          "name": "stdout"
        }
      ]
    },
    {
      "cell_type": "code",
      "metadata": {
        "colab": {
          "base_uri": "https://localhost:8080/"
        },
        "id": "SKNEC-73tEcS",
        "outputId": "10554b3b-4571-4f4a-bf1f-81aa9c9bb042"
      },
      "source": [
        "#So the ad with the most clicks didn't fetch the maximum number of purchases.\r\n",
        "# Find the details of the product having maximum number of purchases\r\n",
        "\r\n",
        "purchases = data[:,10]\r\n",
        "# mx_clik = np.max(clic)\r\n",
        "id_loc = list(clic).index(21.0)\r\n",
        "print('id_location:', id_loc)\r\n",
        "details = data[id_loc,:]\r\n",
        "print(\"Details:\\n\", np.vstack(details))"
      ],
      "execution_count": 61,
      "outputs": [
        {
          "output_type": "stream",
          "text": [
            "id_location: 195\n",
            "Details:\n",
            " [[7.48230000e+05]\n",
            " [9.36000000e+02]\n",
            " [1.11006000e+05]\n",
            " [           nan]\n",
            " [           nan]\n",
            " [1.60000000e+01]\n",
            " [8.39290000e+04]\n",
            " [2.10000000e+01]\n",
            " [2.77299995e+01]\n",
            " [4.00000000e+00]\n",
            " [1.00000000e+00]]\n"
          ],
          "name": "stdout"
        }
      ]
    },
    {
      "cell_type": "code",
      "metadata": {
        "id": "QwDlPTACurlp"
      },
      "source": [
        ""
      ],
      "execution_count": 61,
      "outputs": []
    }
  ]
}