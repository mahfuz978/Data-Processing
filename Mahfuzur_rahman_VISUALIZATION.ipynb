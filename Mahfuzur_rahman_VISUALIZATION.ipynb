{
  "nbformat": 4,
  "nbformat_minor": 0,
  "metadata": {
    "colab": {
      "name": "Mahfuzur_rahman_VISUALIZATION.ipynb",
      "provenance": [],
      "collapsed_sections": [],
      "authorship_tag": "ABX9TyN1VnbusvUePJmFLbm+PsyZ",
      "include_colab_link": true
    },
    "kernelspec": {
      "name": "python3",
      "display_name": "Python 3"
    }
  },
  "cells": [
    {
      "cell_type": "markdown",
      "metadata": {
        "id": "view-in-github",
        "colab_type": "text"
      },
      "source": [
        "<a href=\"https://colab.research.google.com/github/mahfuz978/TECH-I.S.---DATA-PROCESSING/blob/main/Mahfuzur_rahman_VISUALIZATION.ipynb\" target=\"_parent\"><img src=\"https://colab.research.google.com/assets/colab-badge.svg\" alt=\"Open In Colab\"/></a>"
      ]
    },
    {
      "cell_type": "code",
      "metadata": {
        "id": "manGLFZyjduK"
      },
      "source": [
        "from matplotlib import pyplot as plt\r\n",
        "import numpy as np\r\n",
        "%matplotlib inline"
      ],
      "execution_count": 1,
      "outputs": []
    },
    {
      "cell_type": "code",
      "metadata": {
        "id": "sAnllwQAnsKd"
      },
      "source": [
        "def create_sample_chart():\r\n",
        "  x_series = np.arange(10)\r\n",
        "  y_series = x_series**2\r\n",
        "\r\n",
        "  # plotting to our can vas in memory\r\n",
        "  plt.plot(x_series,y_series)\r\n",
        "  # title of our canvas\r\n",
        "  plt.title('Title')\r\n",
        "  # x-axis label\r\n",
        "  plt.xlabel('X Axis')\r\n",
        "  # Y-axis label\r\n",
        "  plt.ylabel('Y Axis')\r\n",
        "\r\n",
        "  # showing what we plotted\r\n",
        "  plt.show();"
      ],
      "execution_count": 2,
      "outputs": []
    },
    {
      "cell_type": "code",
      "metadata": {
        "id": "mezZVIJRny51",
        "colab": {
          "base_uri": "https://localhost:8080/",
          "height": 295
        },
        "outputId": "b933b395-87fc-4dc9-ad73-834c3d474517"
      },
      "source": [
        "create_sample_chart()"
      ],
      "execution_count": 3,
      "outputs": [
        {
          "output_type": "display_data",
          "data": {
            "image/png": "[encoded data removed]",
            "text/plain": [
              "<Figure size 432x288 with 1 Axes>"
            ]
          },
          "metadata": {
            "tags": [],
            "needs_background": "light"
          }
        }
      ]
    },
    {
      "cell_type": "code",
      "metadata": {
        "colab": {
          "base_uri": "https://localhost:8080/",
          "height": 295
        },
        "id": "2iLjmsgYRTuk",
        "outputId": "6af4e7a3-ca3b-4fc1-a704-381a5e267197"
      },
      "source": [
        "def sine_wave():\r\n",
        "  x_series = np.arange(0,11,0.1)\r\n",
        "  y_series = np.sin(x_series)\r\n",
        "\r\n",
        "  # plotting to our can vas in memory\r\n",
        "  plt.plot(x_series,y_series)\r\n",
        "  # title of our canvas\r\n",
        "  plt.title('Title')\r\n",
        "  # x-axis label\r\n",
        "  plt.xlabel('X Axis')\r\n",
        "  # Y-axis label\r\n",
        "  plt.ylabel('Y Axis')\r\n",
        "\r\n",
        "  # showing what we plotted\r\n",
        "  plt.show();\r\n",
        "sine_wave()\r\n"
      ],
      "execution_count": 4,
      "outputs": [
        {
          "output_type": "display_data",
          "data": {
            "image/png": "[encoded data removed]",
            "text/plain": [
              "<Figure size 432x288 with 1 Axes>"
            ]
          },
          "metadata": {
            "tags": [],
            "needs_background": "light"
          }
        }
      ]
    },
    {
      "cell_type": "code",
      "metadata": {
        "colab": {
          "base_uri": "https://localhost:8080/",
          "height": 331
        },
        "id": "aq0prt-uSiAA",
        "outputId": "5e6349cb-a548-48cf-a3e0-641e54e6f825"
      },
      "source": [
        "import pandas as pd\r\n",
        "url = 'https://raw.githubusercontent.com/Tech-i-s/data-science-course-wiki/master/Step%201-3%20Data%20Processing/03_EDA%20and%20Visualisation/01_visualisation/data/weather_2012.csv?token=AM2M2N3URAJSVKGTFGFAVF3ACHORI'\r\n",
        "df1 = pd.read_csv(url, parse_dates=True, index_col='Date/Time')\r\n",
        "df1.head(5)"
      ],
      "execution_count": 5,
      "outputs": [
        {
          "output_type": "execute_result",
          "data": {
            "text/html": [
              "<div>\n",
              "<style scoped>\n",
              "    .dataframe tbody tr th:only-of-type {\n",
              "        vertical-align: middle;\n",
              "    }\n",
              "\n",
              "    .dataframe tbody tr th {\n",
              "        vertical-align: top;\n",
              "    }\n",
              "\n",
              "    .dataframe thead th {\n",
              "        text-align: right;\n",
              "    }\n",
              "</style>\n",
              "<table border=\"1\" class=\"dataframe\">\n",
              "  <thead>\n",
              "    <tr style=\"text-align: right;\">\n",
              "      <th></th>\n",
              "      <th>Temp (C)</th>\n",
              "      <th>Dew Point Temp (C)</th>\n",
              "      <th>Rel Hum (%)</th>\n",
              "      <th>Wind Spd (km/h)</th>\n",
              "      <th>Visibility (km)</th>\n",
              "      <th>Stn Press (kPa)</th>\n",
              "      <th>Weather</th>\n",
              "    </tr>\n",
              "    <tr>\n",
              "      <th>Date/Time</th>\n",
              "      <th></th>\n",
              "      <th></th>\n",
              "      <th></th>\n",
              "      <th></th>\n",
              "      <th></th>\n",
              "      <th></th>\n",
              "      <th></th>\n",
              "    </tr>\n",
              "  </thead>\n",
              "  <tbody>\n",
              "    <tr>\n",
              "      <th>2012-01-01 00:00:00</th>\n",
              "      <td>-1.8</td>\n",
              "      <td>-3.9</td>\n",
              "      <td>86</td>\n",
              "      <td>4</td>\n",
              "      <td>8.0</td>\n",
              "      <td>101.24</td>\n",
              "      <td>Fog</td>\n",
              "    </tr>\n",
              "    <tr>\n",
              "      <th>2012-01-01 01:00:00</th>\n",
              "      <td>-1.8</td>\n",
              "      <td>-3.7</td>\n",
              "      <td>87</td>\n",
              "      <td>4</td>\n",
              "      <td>8.0</td>\n",
              "      <td>101.24</td>\n",
              "      <td>Fog</td>\n",
              "    </tr>\n",
              "    <tr>\n",
              "      <th>2012-01-01 02:00:00</th>\n",
              "      <td>-1.8</td>\n",
              "      <td>-3.4</td>\n",
              "      <td>89</td>\n",
              "      <td>7</td>\n",
              "      <td>4.0</td>\n",
              "      <td>101.26</td>\n",
              "      <td>Freezing Drizzle,Fog</td>\n",
              "    </tr>\n",
              "    <tr>\n",
              "      <th>2012-01-01 03:00:00</th>\n",
              "      <td>-1.5</td>\n",
              "      <td>-3.2</td>\n",
              "      <td>88</td>\n",
              "      <td>6</td>\n",
              "      <td>4.0</td>\n",
              "      <td>101.27</td>\n",
              "      <td>Freezing Drizzle,Fog</td>\n",
              "    </tr>\n",
              "    <tr>\n",
              "      <th>2012-01-01 04:00:00</th>\n",
              "      <td>-1.5</td>\n",
              "      <td>-3.3</td>\n",
              "      <td>88</td>\n",
              "      <td>7</td>\n",
              "      <td>4.8</td>\n",
              "      <td>101.23</td>\n",
              "      <td>Fog</td>\n",
              "    </tr>\n",
              "  </tbody>\n",
              "</table>\n",
              "</div>"
            ],
            "text/plain": [
              "                     Temp (C)  ...               Weather\n",
              "Date/Time                      ...                      \n",
              "2012-01-01 00:00:00      -1.8  ...                   Fog\n",
              "2012-01-01 01:00:00      -1.8  ...                   Fog\n",
              "2012-01-01 02:00:00      -1.8  ...  Freezing Drizzle,Fog\n",
              "2012-01-01 03:00:00      -1.5  ...  Freezing Drizzle,Fog\n",
              "2012-01-01 04:00:00      -1.5  ...                   Fog\n",
              "\n",
              "[5 rows x 7 columns]"
            ]
          },
          "metadata": {
            "tags": []
          },
          "execution_count": 5
        }
      ]
    },
    {
      "cell_type": "code",
      "metadata": {
        "colab": {
          "base_uri": "https://localhost:8080/"
        },
        "id": "10YcoRuRd-zs",
        "outputId": "51a03f17-cc03-497b-b95e-0f62ca00ea48"
      },
      "source": [
        "df1.shape"
      ],
      "execution_count": 6,
      "outputs": [
        {
          "output_type": "execute_result",
          "data": {
            "text/plain": [
              "(8784, 7)"
            ]
          },
          "metadata": {
            "tags": []
          },
          "execution_count": 6
        }
      ]
    },
    {
      "cell_type": "code",
      "metadata": {
        "colab": {
          "base_uri": "https://localhost:8080/",
          "height": 442
        },
        "id": "RJ4g6LmNTo_5",
        "outputId": "835ff06f-ddeb-4d87-bf7f-759f4b9e9148"
      },
      "source": [
        "monthly_data = df1.groupby(df1.index.month).mean()\r\n",
        "monthly_data"
      ],
      "execution_count": 7,
      "outputs": [
        {
          "output_type": "execute_result",
          "data": {
            "text/html": [
              "<div>\n",
              "<style scoped>\n",
              "    .dataframe tbody tr th:only-of-type {\n",
              "        vertical-align: middle;\n",
              "    }\n",
              "\n",
              "    .dataframe tbody tr th {\n",
              "        vertical-align: top;\n",
              "    }\n",
              "\n",
              "    .dataframe thead th {\n",
              "        text-align: right;\n",
              "    }\n",
              "</style>\n",
              "<table border=\"1\" class=\"dataframe\">\n",
              "  <thead>\n",
              "    <tr style=\"text-align: right;\">\n",
              "      <th></th>\n",
              "      <th>Temp (C)</th>\n",
              "      <th>Dew Point Temp (C)</th>\n",
              "      <th>Rel Hum (%)</th>\n",
              "      <th>Wind Spd (km/h)</th>\n",
              "      <th>Visibility (km)</th>\n",
              "      <th>Stn Press (kPa)</th>\n",
              "    </tr>\n",
              "    <tr>\n",
              "      <th>Date/Time</th>\n",
              "      <th></th>\n",
              "      <th></th>\n",
              "      <th></th>\n",
              "      <th></th>\n",
              "      <th></th>\n",
              "      <th></th>\n",
              "    </tr>\n",
              "  </thead>\n",
              "  <tbody>\n",
              "    <tr>\n",
              "      <th>1</th>\n",
              "      <td>-7.371505</td>\n",
              "      <td>-12.294758</td>\n",
              "      <td>68.383065</td>\n",
              "      <td>18.108871</td>\n",
              "      <td>22.100269</td>\n",
              "      <td>101.005349</td>\n",
              "    </tr>\n",
              "    <tr>\n",
              "      <th>2</th>\n",
              "      <td>-4.225000</td>\n",
              "      <td>-9.221695</td>\n",
              "      <td>68.956897</td>\n",
              "      <td>14.837644</td>\n",
              "      <td>25.182184</td>\n",
              "      <td>101.142414</td>\n",
              "    </tr>\n",
              "    <tr>\n",
              "      <th>3</th>\n",
              "      <td>3.121237</td>\n",
              "      <td>-3.488575</td>\n",
              "      <td>64.862903</td>\n",
              "      <td>14.514785</td>\n",
              "      <td>26.177957</td>\n",
              "      <td>101.335255</td>\n",
              "    </tr>\n",
              "    <tr>\n",
              "      <th>4</th>\n",
              "      <td>7.009306</td>\n",
              "      <td>-1.934583</td>\n",
              "      <td>56.150000</td>\n",
              "      <td>17.369444</td>\n",
              "      <td>31.777083</td>\n",
              "      <td>100.716833</td>\n",
              "    </tr>\n",
              "    <tr>\n",
              "      <th>5</th>\n",
              "      <td>16.237769</td>\n",
              "      <td>8.080780</td>\n",
              "      <td>61.760753</td>\n",
              "      <td>12.846774</td>\n",
              "      <td>29.418548</td>\n",
              "      <td>101.057164</td>\n",
              "    </tr>\n",
              "    <tr>\n",
              "      <th>6</th>\n",
              "      <td>20.134028</td>\n",
              "      <td>11.738056</td>\n",
              "      <td>60.643056</td>\n",
              "      <td>14.681944</td>\n",
              "      <td>32.104167</td>\n",
              "      <td>100.784222</td>\n",
              "    </tr>\n",
              "    <tr>\n",
              "      <th>7</th>\n",
              "      <td>22.790054</td>\n",
              "      <td>14.595430</td>\n",
              "      <td>62.017473</td>\n",
              "      <td>11.887097</td>\n",
              "      <td>33.655108</td>\n",
              "      <td>100.828333</td>\n",
              "    </tr>\n",
              "    <tr>\n",
              "      <th>8</th>\n",
              "      <td>22.279301</td>\n",
              "      <td>15.644758</td>\n",
              "      <td>67.943548</td>\n",
              "      <td>13.931452</td>\n",
              "      <td>30.192608</td>\n",
              "      <td>100.927097</td>\n",
              "    </tr>\n",
              "    <tr>\n",
              "      <th>9</th>\n",
              "      <td>16.484444</td>\n",
              "      <td>10.757917</td>\n",
              "      <td>71.165278</td>\n",
              "      <td>14.108333</td>\n",
              "      <td>30.603472</td>\n",
              "      <td>101.087903</td>\n",
              "    </tr>\n",
              "    <tr>\n",
              "      <th>10</th>\n",
              "      <td>10.954973</td>\n",
              "      <td>6.533468</td>\n",
              "      <td>75.731183</td>\n",
              "      <td>15.475806</td>\n",
              "      <td>25.111022</td>\n",
              "      <td>100.909368</td>\n",
              "    </tr>\n",
              "    <tr>\n",
              "      <th>11</th>\n",
              "      <td>0.931389</td>\n",
              "      <td>-4.179306</td>\n",
              "      <td>69.984722</td>\n",
              "      <td>13.973611</td>\n",
              "      <td>26.077083</td>\n",
              "      <td>101.658306</td>\n",
              "    </tr>\n",
              "    <tr>\n",
              "      <th>12</th>\n",
              "      <td>-3.306317</td>\n",
              "      <td>-6.129032</td>\n",
              "      <td>81.299731</td>\n",
              "      <td>17.614247</td>\n",
              "      <td>19.733199</td>\n",
              "      <td>101.174409</td>\n",
              "    </tr>\n",
              "  </tbody>\n",
              "</table>\n",
              "</div>"
            ],
            "text/plain": [
              "            Temp (C)  Dew Point Temp (C)  ...  Visibility (km)  Stn Press (kPa)\n",
              "Date/Time                                 ...                                  \n",
              "1          -7.371505          -12.294758  ...        22.100269       101.005349\n",
              "2          -4.225000           -9.221695  ...        25.182184       101.142414\n",
              "3           3.121237           -3.488575  ...        26.177957       101.335255\n",
              "4           7.009306           -1.934583  ...        31.777083       100.716833\n",
              "5          16.237769            8.080780  ...        29.418548       101.057164\n",
              "6          20.134028           11.738056  ...        32.104167       100.784222\n",
              "7          22.790054           14.595430  ...        33.655108       100.828333\n",
              "8          22.279301           15.644758  ...        30.192608       100.927097\n",
              "9          16.484444           10.757917  ...        30.603472       101.087903\n",
              "10         10.954973            6.533468  ...        25.111022       100.909368\n",
              "11          0.931389           -4.179306  ...        26.077083       101.658306\n",
              "12         -3.306317           -6.129032  ...        19.733199       101.174409\n",
              "\n",
              "[12 rows x 6 columns]"
            ]
          },
          "metadata": {
            "tags": []
          },
          "execution_count": 7
        }
      ]
    },
    {
      "cell_type": "code",
      "metadata": {
        "colab": {
          "base_uri": "https://localhost:8080/"
        },
        "id": "ISngo02QiU20",
        "outputId": "485b1346-d89d-4f79-ca88-4d07863548c8"
      },
      "source": [
        "monthly_data.index"
      ],
      "execution_count": 8,
      "outputs": [
        {
          "output_type": "execute_result",
          "data": {
            "text/plain": [
              "Int64Index([1, 2, 3, 4, 5, 6, 7, 8, 9, 10, 11, 12], dtype='int64', name='Date/Time')"
            ]
          },
          "metadata": {
            "tags": []
          },
          "execution_count": 8
        }
      ]
    },
    {
      "cell_type": "code",
      "metadata": {
        "colab": {
          "base_uri": "https://localhost:8080/"
        },
        "id": "dWq9H9wVdI-p",
        "outputId": "a62a1de6-f454-48bd-e96d-db847bb80c41"
      },
      "source": [
        "monthly_data.shape"
      ],
      "execution_count": 9,
      "outputs": [
        {
          "output_type": "execute_result",
          "data": {
            "text/plain": [
              "(12, 6)"
            ]
          },
          "metadata": {
            "tags": []
          },
          "execution_count": 9
        }
      ]
    },
    {
      "cell_type": "code",
      "metadata": {
        "id": "jI_DPHs5Ul5v"
      },
      "source": [
        "x_series = monthly_data.index\r\n",
        "y_series = monthly_data['Temp (C)']"
      ],
      "execution_count": 10,
      "outputs": []
    },
    {
      "cell_type": "code",
      "metadata": {
        "colab": {
          "base_uri": "https://localhost:8080/",
          "height": 295
        },
        "id": "9D-otHRkU7jS",
        "outputId": "e513afb5-68bc-49b5-d2f1-9e339cfdd21c"
      },
      "source": [
        "plt.plot(x_series, y_series)\r\n",
        "\r\n",
        "plt.title('Temperature Trend, 2012')\r\n",
        "plt.xlabel('Month')\r\n",
        "plt.ylabel('Temp (C)')\r\n",
        "plt.show();"
      ],
      "execution_count": 11,
      "outputs": [
        {
          "output_type": "display_data",
          "data": {
            "image/png": "[encoded data removed]",
            "text/plain": [
              "<Figure size 432x288 with 1 Axes>"
            ]
          },
          "metadata": {
            "tags": [],
            "needs_background": "light"
          }
        }
      ]
    },
    {
      "cell_type": "code",
      "metadata": {
        "colab": {
          "base_uri": "https://localhost:8080/"
        },
        "id": "iswkIwW_U9YU",
        "outputId": "962f5545-fd75-494e-ee13-3f8fb4234c97"
      },
      "source": [
        "# First, get calendar month names\r\n",
        "import calendar\r\n",
        "calendar_months = calendar.month_name[1:]\r\n",
        "\r\n",
        "\r\n",
        "print(calendar_months)"
      ],
      "execution_count": 12,
      "outputs": [
        {
          "output_type": "stream",
          "text": [
            "['January', 'February', 'March', 'April', 'May', 'June', 'July', 'August', 'September', 'October', 'November', 'December']\n"
          ],
          "name": "stdout"
        }
      ]
    },
    {
      "cell_type": "code",
      "metadata": {
        "id": "IjIR97UGfd0v"
      },
      "source": [
        "# def convert(x):\r\n",
        "#   month = calendar.month_name[x]\r\n",
        "#   for i in x:\r\n",
        "#     return month"
      ],
      "execution_count": 13,
      "outputs": []
    },
    {
      "cell_type": "code",
      "metadata": {
        "id": "2jK9ynKNkYWn"
      },
      "source": [
        "# def convert():\r\n",
        "#   for i in x:\r\n",
        "#     return calendar.month_name[x]"
      ],
      "execution_count": 14,
      "outputs": []
    },
    {
      "cell_type": "code",
      "metadata": {
        "id": "KsCShirplakh"
      },
      "source": [
        "# monthly_data = monthly_data.reset_index(convert(monthly_data.index))"
      ],
      "execution_count": 15,
      "outputs": []
    },
    {
      "cell_type": "code",
      "metadata": {
        "id": "rRbK6iX9rbSb"
      },
      "source": [
        "monthly_data.index = calendar_months"
      ],
      "execution_count": 16,
      "outputs": []
    },
    {
      "cell_type": "code",
      "metadata": {
        "colab": {
          "base_uri": "https://localhost:8080/",
          "height": 411
        },
        "id": "YkvP_chgr8g3",
        "outputId": "2b5016bc-8c37-4bf5-beff-6061a7bb23bb"
      },
      "source": [
        "monthly_data"
      ],
      "execution_count": 17,
      "outputs": [
        {
          "output_type": "execute_result",
          "data": {
            "text/html": [
              "<div>\n",
              "<style scoped>\n",
              "    .dataframe tbody tr th:only-of-type {\n",
              "        vertical-align: middle;\n",
              "    }\n",
              "\n",
              "    .dataframe tbody tr th {\n",
              "        vertical-align: top;\n",
              "    }\n",
              "\n",
              "    .dataframe thead th {\n",
              "        text-align: right;\n",
              "    }\n",
              "</style>\n",
              "<table border=\"1\" class=\"dataframe\">\n",
              "  <thead>\n",
              "    <tr style=\"text-align: right;\">\n",
              "      <th></th>\n",
              "      <th>Temp (C)</th>\n",
              "      <th>Dew Point Temp (C)</th>\n",
              "      <th>Rel Hum (%)</th>\n",
              "      <th>Wind Spd (km/h)</th>\n",
              "      <th>Visibility (km)</th>\n",
              "      <th>Stn Press (kPa)</th>\n",
              "    </tr>\n",
              "  </thead>\n",
              "  <tbody>\n",
              "    <tr>\n",
              "      <th>January</th>\n",
              "      <td>-7.371505</td>\n",
              "      <td>-12.294758</td>\n",
              "      <td>68.383065</td>\n",
              "      <td>18.108871</td>\n",
              "      <td>22.100269</td>\n",
              "      <td>101.005349</td>\n",
              "    </tr>\n",
              "    <tr>\n",
              "      <th>February</th>\n",
              "      <td>-4.225000</td>\n",
              "      <td>-9.221695</td>\n",
              "      <td>68.956897</td>\n",
              "      <td>14.837644</td>\n",
              "      <td>25.182184</td>\n",
              "      <td>101.142414</td>\n",
              "    </tr>\n",
              "    <tr>\n",
              "      <th>March</th>\n",
              "      <td>3.121237</td>\n",
              "      <td>-3.488575</td>\n",
              "      <td>64.862903</td>\n",
              "      <td>14.514785</td>\n",
              "      <td>26.177957</td>\n",
              "      <td>101.335255</td>\n",
              "    </tr>\n",
              "    <tr>\n",
              "      <th>April</th>\n",
              "      <td>7.009306</td>\n",
              "      <td>-1.934583</td>\n",
              "      <td>56.150000</td>\n",
              "      <td>17.369444</td>\n",
              "      <td>31.777083</td>\n",
              "      <td>100.716833</td>\n",
              "    </tr>\n",
              "    <tr>\n",
              "      <th>May</th>\n",
              "      <td>16.237769</td>\n",
              "      <td>8.080780</td>\n",
              "      <td>61.760753</td>\n",
              "      <td>12.846774</td>\n",
              "      <td>29.418548</td>\n",
              "      <td>101.057164</td>\n",
              "    </tr>\n",
              "    <tr>\n",
              "      <th>June</th>\n",
              "      <td>20.134028</td>\n",
              "      <td>11.738056</td>\n",
              "      <td>60.643056</td>\n",
              "      <td>14.681944</td>\n",
              "      <td>32.104167</td>\n",
              "      <td>100.784222</td>\n",
              "    </tr>\n",
              "    <tr>\n",
              "      <th>July</th>\n",
              "      <td>22.790054</td>\n",
              "      <td>14.595430</td>\n",
              "      <td>62.017473</td>\n",
              "      <td>11.887097</td>\n",
              "      <td>33.655108</td>\n",
              "      <td>100.828333</td>\n",
              "    </tr>\n",
              "    <tr>\n",
              "      <th>August</th>\n",
              "      <td>22.279301</td>\n",
              "      <td>15.644758</td>\n",
              "      <td>67.943548</td>\n",
              "      <td>13.931452</td>\n",
              "      <td>30.192608</td>\n",
              "      <td>100.927097</td>\n",
              "    </tr>\n",
              "    <tr>\n",
              "      <th>September</th>\n",
              "      <td>16.484444</td>\n",
              "      <td>10.757917</td>\n",
              "      <td>71.165278</td>\n",
              "      <td>14.108333</td>\n",
              "      <td>30.603472</td>\n",
              "      <td>101.087903</td>\n",
              "    </tr>\n",
              "    <tr>\n",
              "      <th>October</th>\n",
              "      <td>10.954973</td>\n",
              "      <td>6.533468</td>\n",
              "      <td>75.731183</td>\n",
              "      <td>15.475806</td>\n",
              "      <td>25.111022</td>\n",
              "      <td>100.909368</td>\n",
              "    </tr>\n",
              "    <tr>\n",
              "      <th>November</th>\n",
              "      <td>0.931389</td>\n",
              "      <td>-4.179306</td>\n",
              "      <td>69.984722</td>\n",
              "      <td>13.973611</td>\n",
              "      <td>26.077083</td>\n",
              "      <td>101.658306</td>\n",
              "    </tr>\n",
              "    <tr>\n",
              "      <th>December</th>\n",
              "      <td>-3.306317</td>\n",
              "      <td>-6.129032</td>\n",
              "      <td>81.299731</td>\n",
              "      <td>17.614247</td>\n",
              "      <td>19.733199</td>\n",
              "      <td>101.174409</td>\n",
              "    </tr>\n",
              "  </tbody>\n",
              "</table>\n",
              "</div>"
            ],
            "text/plain": [
              "            Temp (C)  Dew Point Temp (C)  ...  Visibility (km)  Stn Press (kPa)\n",
              "January    -7.371505          -12.294758  ...        22.100269       101.005349\n",
              "February   -4.225000           -9.221695  ...        25.182184       101.142414\n",
              "March       3.121237           -3.488575  ...        26.177957       101.335255\n",
              "April       7.009306           -1.934583  ...        31.777083       100.716833\n",
              "May        16.237769            8.080780  ...        29.418548       101.057164\n",
              "June       20.134028           11.738056  ...        32.104167       100.784222\n",
              "July       22.790054           14.595430  ...        33.655108       100.828333\n",
              "August     22.279301           15.644758  ...        30.192608       100.927097\n",
              "September  16.484444           10.757917  ...        30.603472       101.087903\n",
              "October    10.954973            6.533468  ...        25.111022       100.909368\n",
              "November    0.931389           -4.179306  ...        26.077083       101.658306\n",
              "December   -3.306317           -6.129032  ...        19.733199       101.174409\n",
              "\n",
              "[12 rows x 6 columns]"
            ]
          },
          "metadata": {
            "tags": []
          },
          "execution_count": 17
        }
      ]
    },
    {
      "cell_type": "code",
      "metadata": {
        "id": "s1zFoGPZvAOP"
      },
      "source": [
        "x_series = monthly_data.index\r\n",
        "y_series = monthly_data['Temp (C)']"
      ],
      "execution_count": 18,
      "outputs": []
    },
    {
      "cell_type": "code",
      "metadata": {
        "id": "HdgXvmdWr-eN",
        "colab": {
          "base_uri": "https://localhost:8080/",
          "height": 340
        },
        "outputId": "6d7d908e-ea66-48b6-868a-39a4dced71d6"
      },
      "source": [
        "plt.plot(x_series, y_series)\r\n",
        "\r\n",
        "plt.title('Temperature Trend, 2012')\r\n",
        "plt.xlabel('Month')\r\n",
        "plt.xticks(rotation = 90)\r\n",
        "plt.ylabel('Temp (C)')\r\n",
        "plt.show();"
      ],
      "execution_count": 19,
      "outputs": [
        {
          "output_type": "display_data",
          "data": {
            "image/png": "[encoded data removed]",
            "text/plain": [
              "<Figure size 432x288 with 1 Axes>"
            ]
          },
          "metadata": {
            "tags": [],
            "needs_background": "light"
          }
        }
      ]
    },
    {
      "cell_type": "code",
      "metadata": {
        "colab": {
          "base_uri": "https://localhost:8080/",
          "height": 308
        },
        "id": "Ymp5w23fujTJ",
        "outputId": "9eca78a0-9145-44f2-b2f7-fad9ba94df8b"
      },
      "source": [
        "def bar_plot():\r\n",
        "  weekly_data = df1.groupby(df1.index.dayofweek).mean()\r\n",
        "\r\n",
        "  plt.bar(weekly_data.index, weekly_data['Visibility (km)'])\r\n",
        "  plt.title('Visibility by week,2012')\r\n",
        "  plt.xlabel('Day of week')\r\n",
        "  plt.ylabel('Visibility (km)')\r\n",
        "  plt.xticks(weekly_data.index, calendar.day_abbr, rotation  = 45)\r\n",
        "  plt.show();\r\n",
        "bar_plot()"
      ],
      "execution_count": 20,
      "outputs": [
        {
          "output_type": "display_data",
          "data": {
            "image/png": "[encoded data removed]",
            "text/plain": [
              "<Figure size 432x288 with 1 Axes>"
            ]
          },
          "metadata": {
            "tags": [],
            "needs_background": "light"
          }
        }
      ]
    },
    {
      "cell_type": "code",
      "metadata": {
        "colab": {
          "base_uri": "https://localhost:8080/",
          "height": 265
        },
        "id": "nWDn_W1gs-nl",
        "outputId": "ba3a3064-8166-4390-a549-313236b5dbe2"
      },
      "source": [
        "# Sample histogram \r\n",
        "\r\n",
        "x = np.arange(0, 10, 0.1)\r\n",
        "y1 = (((x - 3) ** 3 ) - 100) + np.random.randint(-20, 20, size=len(x))\r\n",
        "\r\n",
        "plt.hist(y1)\r\n",
        "plt.show()"
      ],
      "execution_count": 21,
      "outputs": [
        {
          "output_type": "display_data",
          "data": {
            "image/png": "[encoded data removed]",
            "text/plain": [
              "<Figure size 432x288 with 1 Axes>"
            ]
          },
          "metadata": {
            "tags": [],
            "needs_background": "light"
          }
        }
      ]
    },
    {
      "cell_type": "code",
      "metadata": {
        "colab": {
          "base_uri": "https://localhost:8080/"
        },
        "id": "XOMB62sav4Bh",
        "outputId": "31905ecf-5203-4443-9a1a-512db5dffc91"
      },
      "source": [
        "print(df1['Wind Spd (km/h)'].head())"
      ],
      "execution_count": 22,
      "outputs": [
        {
          "output_type": "stream",
          "text": [
            "Date/Time\n",
            "2012-01-01 00:00:00    4\n",
            "2012-01-01 01:00:00    4\n",
            "2012-01-01 02:00:00    7\n",
            "2012-01-01 03:00:00    6\n",
            "2012-01-01 04:00:00    7\n",
            "Name: Wind Spd (km/h), dtype: int64\n"
          ],
          "name": "stdout"
        }
      ]
    },
    {
      "cell_type": "code",
      "metadata": {
        "colab": {
          "base_uri": "https://localhost:8080/",
          "height": 295
        },
        "id": "7Z6qt2EgvQGQ",
        "outputId": "ea8d177f-5608-4d33-aa0b-3dca6e50a482"
      },
      "source": [
        "# Find the distribution of values in the Wind Speed column\r\n",
        "\r\n",
        "def hist_plot():\r\n",
        "  x = df1['Wind Spd (km/h)']\r\n",
        "  plt.title('Wind Speed Count,2012')\r\n",
        "  plt.xlabel('Wind Spd (km/h)')\r\n",
        "  plt.ylabel('Count')\r\n",
        "  plt.hist(x)\r\n",
        "  plt.show();\r\n",
        "\r\n",
        "hist_plot()"
      ],
      "execution_count": 23,
      "outputs": [
        {
          "output_type": "display_data",
          "data": {
            "image/png": "[encoded data removed]",
            "text/plain": [
              "<Figure size 432x288 with 1 Axes>"
            ]
          },
          "metadata": {
            "tags": [],
            "needs_background": "light"
          }
        }
      ]
    },
    {
      "cell_type": "code",
      "metadata": {
        "colab": {
          "base_uri": "https://localhost:8080/",
          "height": 265
        },
        "id": "XlKPf8JVwXp7",
        "outputId": "64a4e457-ace2-40bd-fdf1-36cad21a9274"
      },
      "source": [
        "# Sample boxplot \r\n",
        "\r\n",
        "x= np.arange(0, 10, 0.1)\r\n",
        "y = np.exp(x)\r\n",
        "\r\n",
        "plt.boxplot(y)\r\n",
        "plt.show()"
      ],
      "execution_count": 24,
      "outputs": [
        {
          "output_type": "display_data",
          "data": {
            "image/png": "[encoded data removed]",
            "text/plain": [
              "<Figure size 432x288 with 1 Axes>"
            ]
          },
          "metadata": {
            "tags": [],
            "needs_background": "light"
          }
        }
      ]
    },
    {
      "cell_type": "code",
      "metadata": {
        "colab": {
          "base_uri": "https://localhost:8080/",
          "height": 281
        },
        "id": "1ol8oq3oyQj3",
        "outputId": "70e06618-fb47-4fb8-b884-84e308be292f"
      },
      "source": [
        "def box_plot():\r\n",
        "  x = df1['Wind Spd (km/h)']\r\n",
        "  plt.title('Wind Speed Count,2012')\r\n",
        "  plt.ylabel('Wind Spd (km/h)')\r\n",
        "  plt.boxplot(x)\r\n",
        "  plt.show();\r\n",
        "\r\n",
        "box_plot()"
      ],
      "execution_count": 25,
      "outputs": [
        {
          "output_type": "display_data",
          "data": {
            "image/png": "[encoded data removed]",
            "text/plain": [
              "<Figure size 432x288 with 1 Axes>"
            ]
          },
          "metadata": {
            "tags": [],
            "needs_background": "light"
          }
        }
      ]
    },
    {
      "cell_type": "code",
      "metadata": {
        "colab": {
          "base_uri": "https://localhost:8080/",
          "height": 265
        },
        "id": "xVDMqkpmYNCQ",
        "outputId": "5cfa5aeb-053b-4c66-9962-bf239a5d2718"
      },
      "source": [
        "# Sample scatter plot\r\n",
        "\r\n",
        "x= np.arange(0, 10, 0.1)\r\n",
        "y1 = (((x - 3) ** 3 ) - 100) + np.random.randint(-20, 20, size=len(x))\r\n",
        "y2 = (((3 - x) ** 3 ) + 50) + np.random.randint(-20, 20, size=len(x))\r\n",
        "\r\n",
        "plt.scatter(x, y1, c='r')\r\n",
        "plt.scatter(x, y2, c='b')\r\n",
        "plt.show()"
      ],
      "execution_count": 26,
      "outputs": [
        {
          "output_type": "display_data",
          "data": {
            "image/png": "[encoded data removed]",
            "text/plain": [
              "<Figure size 432x288 with 1 Axes>"
            ]
          },
          "metadata": {
            "tags": [],
            "needs_background": "light"
          }
        }
      ]
    },
    {
      "cell_type": "code",
      "metadata": {
        "id": "SCwUnajWdoR_"
      },
      "source": [
        "# Are the temperature and pressure correlated, according to the data in the \r\n",
        "# month of January? Look at it by generating a scatter plot"
      ],
      "execution_count": 27,
      "outputs": []
    },
    {
      "cell_type": "code",
      "metadata": {
        "colab": {
          "base_uri": "https://localhost:8080/",
          "height": 265
        },
        "id": "hp7Hz4Q4cLyo",
        "outputId": "76606571-78f3-4e6b-b4ef-803d89a7fb9f"
      },
      "source": [
        "jan_df = df1['2012-01']\r\n",
        "y1 = jan_df['Temp (C)']\r\n",
        "y2 = jan_df['Stn Press (kPa)']\r\n",
        "\r\n",
        "def scatter_plot():\r\n",
        "  plt.scatter(y1, y2)\r\n",
        "  plt.show();\r\n",
        "\r\n",
        "scatter_plot()"
      ],
      "execution_count": 28,
      "outputs": [
        {
          "output_type": "display_data",
          "data": {
            "image/png": "[encoded data removed]",
            "text/plain": [
              "<Figure size 432x288 with 1 Axes>"
            ]
          },
          "metadata": {
            "tags": [],
            "needs_background": "light"
          }
        }
      ]
    },
    {
      "cell_type": "code",
      "metadata": {
        "colab": {
          "base_uri": "https://localhost:8080/",
          "height": 266
        },
        "id": "xOnmw5XUdcN1",
        "outputId": "ea7d41d0-48e6-4e0f-e198-57d23f65b426"
      },
      "source": [
        "fig, ax = plt.subplots()\r\n",
        "ax.plot(x, x**2, 'b.-') # blue line with dots\r\n",
        "ax.plot(x, x**2.5, 'g--') # green dashed line\r\n",
        "ax.plot(x, x**3, c='r') # red line color\r\n",
        "fig.show();"
      ],
      "execution_count": 29,
      "outputs": [
        {
          "output_type": "display_data",
          "data": {
            "image/png": "[encoded data removed]",
            "text/plain": [
              "<Figure size 432x288 with 1 Axes>"
            ]
          },
          "metadata": {
            "tags": [],
            "needs_background": "light"
          }
        }
      ]
    },
    {
      "cell_type": "code",
      "metadata": {
        "id": "k8VMSvyVdqW3"
      },
      "source": [
        "def two_plots():\r\n",
        "  x = np.array([0, 1, 2, 3, 4, 5])\r\n",
        "  y = x ** 2\r\n",
        "\r\n",
        "  # Create Figure (empty canvas)\r\n",
        "  fig = plt.figure()\r\n",
        "\r\n",
        "  # Add set of axes to figure\r\n",
        "  axes1 = fig.add_axes([0.1, 0.1, 0.8, 0.8]) # main axes\r\n",
        "  axes2 = fig.add_axes([0.2, 0.5, 0.4, 0.3]) # inset axes \r\n",
        "  # (0.2x left, 0.5x bottom) to (0.4x width, 0.3x height)\r\n",
        "\r\n",
        "  # Larger Figure Axes 1\r\n",
        "  axes1.plot(x, y, 'b')\r\n",
        "  axes1.set_xlabel('X_label_axes1')\r\n",
        "  axes1.set_ylabel('Y_label_axes1')\r\n",
        "  axes1.set_title('Axes 1 Title')\r\n",
        "\r\n",
        "  # Insert Figure Axes 2\r\n",
        "  axes2.plot(y, x, 'r')\r\n",
        "  axes2.set_xlabel('X_label_axes2')\r\n",
        "  axes2.set_ylabel('Y_label_axes2')\r\n",
        "  axes2.set_title('Axes 2 Title');"
      ],
      "execution_count": 30,
      "outputs": []
    },
    {
      "cell_type": "code",
      "metadata": {
        "colab": {
          "base_uri": "https://localhost:8080/",
          "height": 309
        },
        "id": "ro6hYVpXhKtB",
        "outputId": "c4bfed03-84d9-46c6-89fd-f05654b73a35"
      },
      "source": [
        "two_plots()"
      ],
      "execution_count": 31,
      "outputs": [
        {
          "output_type": "display_data",
          "data": {
            "image/png": "[encoded data removed]",
            "text/plain": [
              "<Figure size 432x288 with 2 Axes>"
            ]
          },
          "metadata": {
            "tags": [],
            "needs_background": "light"
          }
        }
      ]
    },
    {
      "cell_type": "code",
      "metadata": {
        "colab": {
          "base_uri": "https://localhost:8080/",
          "height": 269
        },
        "id": "RFcI81JyhMOM",
        "outputId": "fa8db8ae-64fa-4423-b649-f1a6658d3884"
      },
      "source": [
        "# Canvas of 2 by 2 subplots\r\n",
        "fig, axes = plt.subplots(nrows=2, ncols=2)\r\n",
        "\r\n",
        "# axes is an array of shape (2, 2)"
      ],
      "execution_count": 32,
      "outputs": [
        {
          "output_type": "display_data",
          "data": {
            "image/png": "[encoded data removed]",
            "text/plain": [
              "<Figure size 432x288 with 4 Axes>"
            ]
          },
          "metadata": {
            "tags": [],
            "needs_background": "light"
          }
        }
      ]
    },
    {
      "cell_type": "code",
      "metadata": {
        "id": "KZLqzB5vh0qA"
      },
      "source": [
        "def sub_plots_example():\r\n",
        "  y = x ** 2\r\n",
        "  fig, axes = plt.subplots(2, 2)\r\n",
        "  axes[0,0].plot(y, c='r')\r\n",
        "  axes[1,1].plot(y, 'g--')"
      ],
      "execution_count": 33,
      "outputs": []
    },
    {
      "cell_type": "code",
      "metadata": {
        "colab": {
          "base_uri": "https://localhost:8080/",
          "height": 269
        },
        "id": "w6bwck57iuVR",
        "outputId": "9fb79d73-47bf-4afe-d841-74b5255bbb48"
      },
      "source": [
        "sub_plots_example()"
      ],
      "execution_count": 34,
      "outputs": [
        {
          "output_type": "display_data",
          "data": {
            "image/png": "[encoded data removed]",
            "text/plain": [
              "<Figure size 432x288 with 4 Axes>"
            ]
          },
          "metadata": {
            "tags": [],
            "needs_background": "light"
          }
        }
      ]
    },
    {
      "cell_type": "code",
      "metadata": {
        "colab": {
          "base_uri": "https://localhost:8080/",
          "height": 334
        },
        "id": "yrgBeCx8iwCG",
        "outputId": "54404d70-5d62-4a98-abb3-e22149a7da2b"
      },
      "source": [
        "import seaborn as sns\r\n",
        "sns.distplot(df1['Wind Spd (km/h)'], bins = 25);"
      ],
      "execution_count": 35,
      "outputs": [
        {
          "output_type": "stream",
          "text": [
            "/usr/local/lib/python3.6/dist-packages/seaborn/distributions.py:2557: FutureWarning: `distplot` is a deprecated function and will be removed in a future version. Please adapt your code to use either `displot` (a figure-level function with similar flexibility) or `histplot` (an axes-level function for histograms).\n",
            "  warnings.warn(msg, FutureWarning)\n"
          ],
          "name": "stderr"
        },
        {
          "output_type": "display_data",
          "data": {
            "image/png": "[encoded data removed]",
            "text/plain": [
              "<Figure size 432x288 with 1 Axes>"
            ]
          },
          "metadata": {
            "tags": [],
            "needs_background": "light"
          }
        }
      ]
    },
    {
      "cell_type": "code",
      "metadata": {
        "id": "HBoqOKZGsi__"
      },
      "source": [
        ""
      ],
      "execution_count": 35,
      "outputs": []
    }
  ]
}